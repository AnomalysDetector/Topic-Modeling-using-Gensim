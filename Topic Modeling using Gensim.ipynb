{
 "cells": [
  {
   "cell_type": "code",
   "execution_count": 1,
   "metadata": {},
   "outputs": [
    {
     "name": "stdout",
     "output_type": "stream",
     "text": [
      "Collecting https://github.com/explosion/spacy-models/releases/download/en_core_web_sm-2.2.0/en_core_web_sm-2.2.0.tar.gz\n",
      "  Using cached https://github.com/explosion/spacy-models/releases/download/en_core_web_sm-2.2.0/en_core_web_sm-2.2.0.tar.gz (12.0 MB)\n",
      "Requirement already satisfied: spacy>=2.2.0 in c:\\programdata\\anaconda3\\lib\\site-packages (from en-core-web-sm==2.2.0) (2.2.4)\n",
      "Requirement already satisfied: cymem<2.1.0,>=2.0.2 in c:\\programdata\\anaconda3\\lib\\site-packages (from spacy>=2.2.0->en-core-web-sm==2.2.0) (2.0.3)\n",
      "Requirement already satisfied: wasabi<1.1.0,>=0.4.0 in c:\\programdata\\anaconda3\\lib\\site-packages (from spacy>=2.2.0->en-core-web-sm==2.2.0) (0.6.0)\n",
      "Requirement already satisfied: plac<1.2.0,>=0.9.6 in c:\\programdata\\anaconda3\\lib\\site-packages (from spacy>=2.2.0->en-core-web-sm==2.2.0) (1.1.3)\n",
      "Requirement already satisfied: murmurhash<1.1.0,>=0.28.0 in c:\\programdata\\anaconda3\\lib\\site-packages (from spacy>=2.2.0->en-core-web-sm==2.2.0) (1.0.2)\n",
      "Requirement already satisfied: requests<3.0.0,>=2.13.0 in c:\\programdata\\anaconda3\\lib\\site-packages (from spacy>=2.2.0->en-core-web-sm==2.2.0) (2.22.0)\n",
      "Requirement already satisfied: thinc==7.4.0 in c:\\programdata\\anaconda3\\lib\\site-packages (from spacy>=2.2.0->en-core-web-sm==2.2.0) (7.4.0)\n",
      "Requirement already satisfied: setuptools in c:\\programdata\\anaconda3\\lib\\site-packages (from spacy>=2.2.0->en-core-web-sm==2.2.0) (45.1.0.post20200127)\n",
      "Requirement already satisfied: blis<0.5.0,>=0.4.0 in c:\\programdata\\anaconda3\\lib\\site-packages (from spacy>=2.2.0->en-core-web-sm==2.2.0) (0.4.1)\n",
      "Requirement already satisfied: srsly<1.1.0,>=1.0.2 in c:\\programdata\\anaconda3\\lib\\site-packages (from spacy>=2.2.0->en-core-web-sm==2.2.0) (1.0.2)\n",
      "Requirement already satisfied: numpy>=1.15.0 in c:\\programdata\\anaconda3\\lib\\site-packages (from spacy>=2.2.0->en-core-web-sm==2.2.0) (1.18.1)\n",
      "Requirement already satisfied: catalogue<1.1.0,>=0.0.7 in c:\\programdata\\anaconda3\\lib\\site-packages (from spacy>=2.2.0->en-core-web-sm==2.2.0) (1.0.0)\n",
      "Requirement already satisfied: tqdm<5.0.0,>=4.38.0 in c:\\programdata\\anaconda3\\lib\\site-packages (from spacy>=2.2.0->en-core-web-sm==2.2.0) (4.42.0)\n",
      "Requirement already satisfied: preshed<3.1.0,>=3.0.2 in c:\\programdata\\anaconda3\\lib\\site-packages (from spacy>=2.2.0->en-core-web-sm==2.2.0) (3.0.2)\n",
      "Requirement already satisfied: certifi>=2017.4.17 in c:\\programdata\\anaconda3\\lib\\site-packages (from requests<3.0.0,>=2.13.0->spacy>=2.2.0->en-core-web-sm==2.2.0) (2020.4.5.1)\n",
      "Requirement already satisfied: chardet<3.1.0,>=3.0.2 in c:\\programdata\\anaconda3\\lib\\site-packages (from requests<3.0.0,>=2.13.0->spacy>=2.2.0->en-core-web-sm==2.2.0) (3.0.4)\n",
      "Requirement already satisfied: urllib3!=1.25.0,!=1.25.1,<1.26,>=1.21.1 in c:\\programdata\\anaconda3\\lib\\site-packages (from requests<3.0.0,>=2.13.0->spacy>=2.2.0->en-core-web-sm==2.2.0) (1.25.8)\n",
      "Requirement already satisfied: idna<2.9,>=2.5 in c:\\programdata\\anaconda3\\lib\\site-packages (from requests<3.0.0,>=2.13.0->spacy>=2.2.0->en-core-web-sm==2.2.0) (2.8)\n",
      "Requirement already satisfied: importlib-metadata>=0.20; python_version < \"3.8\" in c:\\programdata\\anaconda3\\lib\\site-packages (from catalogue<1.1.0,>=0.0.7->spacy>=2.2.0->en-core-web-sm==2.2.0) (1.4.0)\n",
      "Requirement already satisfied: zipp>=0.5 in c:\\programdata\\anaconda3\\lib\\site-packages (from importlib-metadata>=0.20; python_version < \"3.8\"->catalogue<1.1.0,>=0.0.7->spacy>=2.2.0->en-core-web-sm==2.2.0) (0.6.0)\n",
      "Requirement already satisfied: more-itertools in c:\\programdata\\anaconda3\\lib\\site-packages (from zipp>=0.5->importlib-metadata>=0.20; python_version < \"3.8\"->catalogue<1.1.0,>=0.0.7->spacy>=2.2.0->en-core-web-sm==2.2.0) (8.0.2)\n",
      "Building wheels for collected packages: en-core-web-sm\n",
      "  Building wheel for en-core-web-sm (setup.py): started\n",
      "  Building wheel for en-core-web-sm (setup.py): finished with status 'done'\n",
      "  Created wheel for en-core-web-sm: filename=en_core_web_sm-2.2.0-py3-none-any.whl size=12019128 sha256=87de7355d67338eb566661da108359a18551401e3b7e53dab110692200fc44df\n",
      "  Stored in directory: c:\\users\\131b~1\\appdata\\local\\pip\\cache\\wheels\\64\\69\\41\\6f820cf1d7488a0381a2059f66ec9f8f23116f7c67d18f3d8d\n",
      "Successfully built en-core-web-sm\n",
      "Installing collected packages: en-core-web-sm\n",
      "  Attempting uninstall: en-core-web-sm\n",
      "    Found existing installation: en-core-web-sm 2.0.0\n",
      "    Uninstalling en-core-web-sm-2.0.0:\n",
      "Note: you may need to restart the kernel to use updated packages.\n"
     ]
    },
    {
     "name": "stderr",
     "output_type": "stream",
     "text": [
      "ERROR: Could not install packages due to an EnvironmentError: [WinError 5] Access is denied: 'c:\\\\programdata\\\\anaconda3\\\\lib\\\\site-packages\\\\en_core_web_sm-2.0.0.dist-info\\\\INSTALLER'\n",
      "Consider using the `--user` option or check the permissions.\n",
      "\n"
     ]
    }
   ],
   "source": [
    "pip install https://github.com/explosion/spacy-models/releases/download/en_core_web_sm-2.2.0/en_core_web_sm-2.2.0.tar.gz"
   ]
  },
  {
   "cell_type": "code",
   "execution_count": 18,
   "metadata": {},
   "outputs": [
    {
     "name": "stdout",
     "output_type": "stream",
     "text": [
      "Collecting en_core_web_sm==2.1.0\n",
      "  Downloading https://github.com/explosion/spacy-models/releases/download/en_core_web_sm-2.1.0/en_core_web_sm-2.1.0.tar.gz (11.1 MB)\n",
      "Building wheels for collected packages: en-core-web-sm\n",
      "  Building wheel for en-core-web-sm (setup.py): started\n",
      "  Building wheel for en-core-web-sm (setup.py): finished with status 'done'\n",
      "  Created wheel for en-core-web-sm: filename=en_core_web_sm-2.1.0-py3-none-any.whl size=11074438 sha256=139055437e23d4682ad9a59bce319c3d885857ebf0051fb1e8211157deb00e82\n",
      "  Stored in directory: C:\\Users\\131B~1\\AppData\\Local\\Temp\\pip-ephem-wheel-cache-cxprrwj6\\wheels\\59\\4f\\8c\\0dbaab09a776d1fa3740e9465078bfd903cc22f3985382b496\n",
      "Successfully built en-core-web-sm\n",
      "Installing collected packages: en-core-web-sm\n",
      "  Attempting uninstall: en-core-web-sm\n",
      "    Found existing installation: en-core-web-sm 2.0.0\n",
      "    Uninstalling en-core-web-sm-2.0.0:\n"
     ]
    },
    {
     "name": "stderr",
     "output_type": "stream",
     "text": [
      "ERROR: Could not install packages due to an EnvironmentError: [WinError 5] Access is denied: 'c:\\\\programdata\\\\anaconda3\\\\lib\\\\site-packages\\\\en_core_web_sm-2.0.0.dist-info\\\\INSTALLER'\n",
      "Consider using the `--user` option or check the permissions.\n",
      "\n"
     ]
    },
    {
     "ename": "error",
     "evalue": "bad escape \\p at position 257",
     "output_type": "error",
     "traceback": [
      "\u001b[1;31m---------------------------------------------------------------------------\u001b[0m",
      "\u001b[1;31merror\u001b[0m                                     Traceback (most recent call last)",
      "\u001b[1;32m<ipython-input-18-72d0367fdf6e>\u001b[0m in \u001b[0;36m<module>\u001b[1;34m\u001b[0m\n\u001b[0;32m      4\u001b[0m \u001b[0mparser\u001b[0m \u001b[1;33m=\u001b[0m \u001b[0mEnglish\u001b[0m\u001b[1;33m(\u001b[0m\u001b[1;33m)\u001b[0m\u001b[1;33m\u001b[0m\u001b[1;33m\u001b[0m\u001b[0m\n\u001b[0;32m      5\u001b[0m \u001b[1;32mimport\u001b[0m \u001b[0men_core_web_sm\u001b[0m\u001b[1;33m\u001b[0m\u001b[1;33m\u001b[0m\u001b[0m\n\u001b[1;32m----> 6\u001b[1;33m \u001b[0mnlp\u001b[0m \u001b[1;33m=\u001b[0m \u001b[0mspacy\u001b[0m\u001b[1;33m.\u001b[0m\u001b[0mload\u001b[0m\u001b[1;33m(\u001b[0m\u001b[1;34m'en_core_web_sm'\u001b[0m\u001b[1;33m)\u001b[0m\u001b[1;33m\u001b[0m\u001b[1;33m\u001b[0m\u001b[0m\n\u001b[0m",
      "\u001b[1;32mC:\\ProgramData\\Anaconda3\\lib\\site-packages\\spacy\\__init__.py\u001b[0m in \u001b[0;36mload\u001b[1;34m(name, **overrides)\u001b[0m\n\u001b[0;32m     25\u001b[0m     \u001b[1;32mif\u001b[0m \u001b[0mdepr_path\u001b[0m \u001b[1;32mnot\u001b[0m \u001b[1;32min\u001b[0m \u001b[1;33m(\u001b[0m\u001b[1;32mTrue\u001b[0m\u001b[1;33m,\u001b[0m \u001b[1;32mFalse\u001b[0m\u001b[1;33m,\u001b[0m \u001b[1;32mNone\u001b[0m\u001b[1;33m)\u001b[0m\u001b[1;33m:\u001b[0m\u001b[1;33m\u001b[0m\u001b[1;33m\u001b[0m\u001b[0m\n\u001b[0;32m     26\u001b[0m         \u001b[0mdeprecation_warning\u001b[0m\u001b[1;33m(\u001b[0m\u001b[0mWarnings\u001b[0m\u001b[1;33m.\u001b[0m\u001b[0mW001\u001b[0m\u001b[1;33m.\u001b[0m\u001b[0mformat\u001b[0m\u001b[1;33m(\u001b[0m\u001b[0mpath\u001b[0m\u001b[1;33m=\u001b[0m\u001b[0mdepr_path\u001b[0m\u001b[1;33m)\u001b[0m\u001b[1;33m)\u001b[0m\u001b[1;33m\u001b[0m\u001b[1;33m\u001b[0m\u001b[0m\n\u001b[1;32m---> 27\u001b[1;33m     \u001b[1;32mreturn\u001b[0m \u001b[0mutil\u001b[0m\u001b[1;33m.\u001b[0m\u001b[0mload_model\u001b[0m\u001b[1;33m(\u001b[0m\u001b[0mname\u001b[0m\u001b[1;33m,\u001b[0m \u001b[1;33m**\u001b[0m\u001b[0moverrides\u001b[0m\u001b[1;33m)\u001b[0m\u001b[1;33m\u001b[0m\u001b[1;33m\u001b[0m\u001b[0m\n\u001b[0m\u001b[0;32m     28\u001b[0m \u001b[1;33m\u001b[0m\u001b[0m\n\u001b[0;32m     29\u001b[0m \u001b[1;33m\u001b[0m\u001b[0m\n",
      "\u001b[1;32mC:\\ProgramData\\Anaconda3\\lib\\site-packages\\spacy\\util.py\u001b[0m in \u001b[0;36mload_model\u001b[1;34m(name, **overrides)\u001b[0m\n\u001b[0;32m    129\u001b[0m             \u001b[1;32mreturn\u001b[0m \u001b[0mload_model_from_link\u001b[0m\u001b[1;33m(\u001b[0m\u001b[0mname\u001b[0m\u001b[1;33m,\u001b[0m \u001b[1;33m**\u001b[0m\u001b[0moverrides\u001b[0m\u001b[1;33m)\u001b[0m\u001b[1;33m\u001b[0m\u001b[1;33m\u001b[0m\u001b[0m\n\u001b[0;32m    130\u001b[0m         \u001b[1;32mif\u001b[0m \u001b[0mis_package\u001b[0m\u001b[1;33m(\u001b[0m\u001b[0mname\u001b[0m\u001b[1;33m)\u001b[0m\u001b[1;33m:\u001b[0m  \u001b[1;31m# installed as package\u001b[0m\u001b[1;33m\u001b[0m\u001b[1;33m\u001b[0m\u001b[0m\n\u001b[1;32m--> 131\u001b[1;33m             \u001b[1;32mreturn\u001b[0m \u001b[0mload_model_from_package\u001b[0m\u001b[1;33m(\u001b[0m\u001b[0mname\u001b[0m\u001b[1;33m,\u001b[0m \u001b[1;33m**\u001b[0m\u001b[0moverrides\u001b[0m\u001b[1;33m)\u001b[0m\u001b[1;33m\u001b[0m\u001b[1;33m\u001b[0m\u001b[0m\n\u001b[0m\u001b[0;32m    132\u001b[0m         \u001b[1;32mif\u001b[0m \u001b[0mPath\u001b[0m\u001b[1;33m(\u001b[0m\u001b[0mname\u001b[0m\u001b[1;33m)\u001b[0m\u001b[1;33m.\u001b[0m\u001b[0mexists\u001b[0m\u001b[1;33m(\u001b[0m\u001b[1;33m)\u001b[0m\u001b[1;33m:\u001b[0m  \u001b[1;31m# path to model data directory\u001b[0m\u001b[1;33m\u001b[0m\u001b[1;33m\u001b[0m\u001b[0m\n\u001b[0;32m    133\u001b[0m             \u001b[1;32mreturn\u001b[0m \u001b[0mload_model_from_path\u001b[0m\u001b[1;33m(\u001b[0m\u001b[0mPath\u001b[0m\u001b[1;33m(\u001b[0m\u001b[0mname\u001b[0m\u001b[1;33m)\u001b[0m\u001b[1;33m,\u001b[0m \u001b[1;33m**\u001b[0m\u001b[0moverrides\u001b[0m\u001b[1;33m)\u001b[0m\u001b[1;33m\u001b[0m\u001b[1;33m\u001b[0m\u001b[0m\n",
      "\u001b[1;32mC:\\ProgramData\\Anaconda3\\lib\\site-packages\\spacy\\util.py\u001b[0m in \u001b[0;36mload_model_from_package\u001b[1;34m(name, **overrides)\u001b[0m\n\u001b[0;32m    150\u001b[0m     \u001b[1;34m\"\"\"Load a model from an installed package.\"\"\"\u001b[0m\u001b[1;33m\u001b[0m\u001b[1;33m\u001b[0m\u001b[0m\n\u001b[0;32m    151\u001b[0m     \u001b[0mcls\u001b[0m \u001b[1;33m=\u001b[0m \u001b[0mimportlib\u001b[0m\u001b[1;33m.\u001b[0m\u001b[0mimport_module\u001b[0m\u001b[1;33m(\u001b[0m\u001b[0mname\u001b[0m\u001b[1;33m)\u001b[0m\u001b[1;33m\u001b[0m\u001b[1;33m\u001b[0m\u001b[0m\n\u001b[1;32m--> 152\u001b[1;33m     \u001b[1;32mreturn\u001b[0m \u001b[0mcls\u001b[0m\u001b[1;33m.\u001b[0m\u001b[0mload\u001b[0m\u001b[1;33m(\u001b[0m\u001b[1;33m**\u001b[0m\u001b[0moverrides\u001b[0m\u001b[1;33m)\u001b[0m\u001b[1;33m\u001b[0m\u001b[1;33m\u001b[0m\u001b[0m\n\u001b[0m\u001b[0;32m    153\u001b[0m \u001b[1;33m\u001b[0m\u001b[0m\n\u001b[0;32m    154\u001b[0m \u001b[1;33m\u001b[0m\u001b[0m\n",
      "\u001b[1;32mC:\\ProgramData\\Anaconda3\\lib\\site-packages\\en_core_web_sm\\__init__.py\u001b[0m in \u001b[0;36mload\u001b[1;34m(**overrides)\u001b[0m\n\u001b[0;32m     10\u001b[0m \u001b[1;33m\u001b[0m\u001b[0m\n\u001b[0;32m     11\u001b[0m \u001b[1;32mdef\u001b[0m \u001b[0mload\u001b[0m\u001b[1;33m(\u001b[0m\u001b[1;33m**\u001b[0m\u001b[0moverrides\u001b[0m\u001b[1;33m)\u001b[0m\u001b[1;33m:\u001b[0m\u001b[1;33m\u001b[0m\u001b[1;33m\u001b[0m\u001b[0m\n\u001b[1;32m---> 12\u001b[1;33m     \u001b[1;32mreturn\u001b[0m \u001b[0mload_model_from_init_py\u001b[0m\u001b[1;33m(\u001b[0m\u001b[0m__file__\u001b[0m\u001b[1;33m,\u001b[0m \u001b[1;33m**\u001b[0m\u001b[0moverrides\u001b[0m\u001b[1;33m)\u001b[0m\u001b[1;33m\u001b[0m\u001b[1;33m\u001b[0m\u001b[0m\n\u001b[0m",
      "\u001b[1;32mC:\\ProgramData\\Anaconda3\\lib\\site-packages\\spacy\\util.py\u001b[0m in \u001b[0;36mload_model_from_init_py\u001b[1;34m(init_file, **overrides)\u001b[0m\n\u001b[0;32m    188\u001b[0m     \u001b[1;32mif\u001b[0m \u001b[1;32mnot\u001b[0m \u001b[0mmodel_path\u001b[0m\u001b[1;33m.\u001b[0m\u001b[0mexists\u001b[0m\u001b[1;33m(\u001b[0m\u001b[1;33m)\u001b[0m\u001b[1;33m:\u001b[0m\u001b[1;33m\u001b[0m\u001b[1;33m\u001b[0m\u001b[0m\n\u001b[0;32m    189\u001b[0m         \u001b[1;32mraise\u001b[0m \u001b[0mIOError\u001b[0m\u001b[1;33m(\u001b[0m\u001b[0mErrors\u001b[0m\u001b[1;33m.\u001b[0m\u001b[0mE052\u001b[0m\u001b[1;33m.\u001b[0m\u001b[0mformat\u001b[0m\u001b[1;33m(\u001b[0m\u001b[0mpath\u001b[0m\u001b[1;33m=\u001b[0m\u001b[0mpath2str\u001b[0m\u001b[1;33m(\u001b[0m\u001b[0mdata_path\u001b[0m\u001b[1;33m)\u001b[0m\u001b[1;33m)\u001b[0m\u001b[1;33m)\u001b[0m\u001b[1;33m\u001b[0m\u001b[1;33m\u001b[0m\u001b[0m\n\u001b[1;32m--> 190\u001b[1;33m     \u001b[1;32mreturn\u001b[0m \u001b[0mload_model_from_path\u001b[0m\u001b[1;33m(\u001b[0m\u001b[0mdata_path\u001b[0m\u001b[1;33m,\u001b[0m \u001b[0mmeta\u001b[0m\u001b[1;33m,\u001b[0m \u001b[1;33m**\u001b[0m\u001b[0moverrides\u001b[0m\u001b[1;33m)\u001b[0m\u001b[1;33m\u001b[0m\u001b[1;33m\u001b[0m\u001b[0m\n\u001b[0m\u001b[0;32m    191\u001b[0m \u001b[1;33m\u001b[0m\u001b[0m\n\u001b[0;32m    192\u001b[0m \u001b[1;33m\u001b[0m\u001b[0m\n",
      "\u001b[1;32mC:\\ProgramData\\Anaconda3\\lib\\site-packages\\spacy\\util.py\u001b[0m in \u001b[0;36mload_model_from_path\u001b[1;34m(model_path, meta, **overrides)\u001b[0m\n\u001b[0;32m    171\u001b[0m             \u001b[0mcomponent\u001b[0m \u001b[1;33m=\u001b[0m \u001b[0mnlp\u001b[0m\u001b[1;33m.\u001b[0m\u001b[0mcreate_pipe\u001b[0m\u001b[1;33m(\u001b[0m\u001b[0mname\u001b[0m\u001b[1;33m,\u001b[0m \u001b[0mconfig\u001b[0m\u001b[1;33m=\u001b[0m\u001b[0mconfig\u001b[0m\u001b[1;33m)\u001b[0m\u001b[1;33m\u001b[0m\u001b[1;33m\u001b[0m\u001b[0m\n\u001b[0;32m    172\u001b[0m             \u001b[0mnlp\u001b[0m\u001b[1;33m.\u001b[0m\u001b[0madd_pipe\u001b[0m\u001b[1;33m(\u001b[0m\u001b[0mcomponent\u001b[0m\u001b[1;33m,\u001b[0m \u001b[0mname\u001b[0m\u001b[1;33m=\u001b[0m\u001b[0mname\u001b[0m\u001b[1;33m)\u001b[0m\u001b[1;33m\u001b[0m\u001b[1;33m\u001b[0m\u001b[0m\n\u001b[1;32m--> 173\u001b[1;33m     \u001b[1;32mreturn\u001b[0m \u001b[0mnlp\u001b[0m\u001b[1;33m.\u001b[0m\u001b[0mfrom_disk\u001b[0m\u001b[1;33m(\u001b[0m\u001b[0mmodel_path\u001b[0m\u001b[1;33m)\u001b[0m\u001b[1;33m\u001b[0m\u001b[1;33m\u001b[0m\u001b[0m\n\u001b[0m\u001b[0;32m    174\u001b[0m \u001b[1;33m\u001b[0m\u001b[0m\n\u001b[0;32m    175\u001b[0m \u001b[1;33m\u001b[0m\u001b[0m\n",
      "\u001b[1;32mC:\\ProgramData\\Anaconda3\\lib\\site-packages\\spacy\\language.py\u001b[0m in \u001b[0;36mfrom_disk\u001b[1;34m(self, path, exclude, disable)\u001b[0m\n\u001b[0;32m    784\u001b[0m             \u001b[1;31m# Convert to list here in case exclude is (default) tuple\u001b[0m\u001b[1;33m\u001b[0m\u001b[1;33m\u001b[0m\u001b[1;33m\u001b[0m\u001b[0m\n\u001b[0;32m    785\u001b[0m             \u001b[0mexclude\u001b[0m \u001b[1;33m=\u001b[0m \u001b[0mlist\u001b[0m\u001b[1;33m(\u001b[0m\u001b[0mexclude\u001b[0m\u001b[1;33m)\u001b[0m \u001b[1;33m+\u001b[0m \u001b[1;33m[\u001b[0m\u001b[1;34m\"vocab\"\u001b[0m\u001b[1;33m]\u001b[0m\u001b[1;33m\u001b[0m\u001b[1;33m\u001b[0m\u001b[0m\n\u001b[1;32m--> 786\u001b[1;33m         \u001b[0mutil\u001b[0m\u001b[1;33m.\u001b[0m\u001b[0mfrom_disk\u001b[0m\u001b[1;33m(\u001b[0m\u001b[0mpath\u001b[0m\u001b[1;33m,\u001b[0m \u001b[0mdeserializers\u001b[0m\u001b[1;33m,\u001b[0m \u001b[0mexclude\u001b[0m\u001b[1;33m)\u001b[0m\u001b[1;33m\u001b[0m\u001b[1;33m\u001b[0m\u001b[0m\n\u001b[0m\u001b[0;32m    787\u001b[0m         \u001b[0mself\u001b[0m\u001b[1;33m.\u001b[0m\u001b[0m_path\u001b[0m \u001b[1;33m=\u001b[0m \u001b[0mpath\u001b[0m\u001b[1;33m\u001b[0m\u001b[1;33m\u001b[0m\u001b[0m\n\u001b[0;32m    788\u001b[0m         \u001b[1;32mreturn\u001b[0m \u001b[0mself\u001b[0m\u001b[1;33m\u001b[0m\u001b[1;33m\u001b[0m\u001b[0m\n",
      "\u001b[1;32mC:\\ProgramData\\Anaconda3\\lib\\site-packages\\spacy\\util.py\u001b[0m in \u001b[0;36mfrom_disk\u001b[1;34m(path, readers, exclude)\u001b[0m\n\u001b[0;32m    609\u001b[0m         \u001b[1;31m# Split to support file names like meta.json\u001b[0m\u001b[1;33m\u001b[0m\u001b[1;33m\u001b[0m\u001b[1;33m\u001b[0m\u001b[0m\n\u001b[0;32m    610\u001b[0m         \u001b[1;32mif\u001b[0m \u001b[0mkey\u001b[0m\u001b[1;33m.\u001b[0m\u001b[0msplit\u001b[0m\u001b[1;33m(\u001b[0m\u001b[1;34m\".\"\u001b[0m\u001b[1;33m)\u001b[0m\u001b[1;33m[\u001b[0m\u001b[1;36m0\u001b[0m\u001b[1;33m]\u001b[0m \u001b[1;32mnot\u001b[0m \u001b[1;32min\u001b[0m \u001b[0mexclude\u001b[0m\u001b[1;33m:\u001b[0m\u001b[1;33m\u001b[0m\u001b[1;33m\u001b[0m\u001b[0m\n\u001b[1;32m--> 611\u001b[1;33m             \u001b[0mreader\u001b[0m\u001b[1;33m(\u001b[0m\u001b[0mpath\u001b[0m \u001b[1;33m/\u001b[0m \u001b[0mkey\u001b[0m\u001b[1;33m)\u001b[0m\u001b[1;33m\u001b[0m\u001b[1;33m\u001b[0m\u001b[0m\n\u001b[0m\u001b[0;32m    612\u001b[0m     \u001b[1;32mreturn\u001b[0m \u001b[0mpath\u001b[0m\u001b[1;33m\u001b[0m\u001b[1;33m\u001b[0m\u001b[0m\n\u001b[0;32m    613\u001b[0m \u001b[1;33m\u001b[0m\u001b[0m\n",
      "\u001b[1;32mC:\\ProgramData\\Anaconda3\\lib\\site-packages\\spacy\\language.py\u001b[0m in \u001b[0;36m<lambda>\u001b[1;34m(p)\u001b[0m\n\u001b[0;32m    774\u001b[0m         \u001b[0mdeserializers\u001b[0m\u001b[1;33m[\u001b[0m\u001b[1;34m\"meta.json\"\u001b[0m\u001b[1;33m]\u001b[0m \u001b[1;33m=\u001b[0m \u001b[1;32mlambda\u001b[0m \u001b[0mp\u001b[0m\u001b[1;33m:\u001b[0m \u001b[0mself\u001b[0m\u001b[1;33m.\u001b[0m\u001b[0mmeta\u001b[0m\u001b[1;33m.\u001b[0m\u001b[0mupdate\u001b[0m\u001b[1;33m(\u001b[0m\u001b[0msrsly\u001b[0m\u001b[1;33m.\u001b[0m\u001b[0mread_json\u001b[0m\u001b[1;33m(\u001b[0m\u001b[0mp\u001b[0m\u001b[1;33m)\u001b[0m\u001b[1;33m)\u001b[0m\u001b[1;33m\u001b[0m\u001b[1;33m\u001b[0m\u001b[0m\n\u001b[0;32m    775\u001b[0m         \u001b[0mdeserializers\u001b[0m\u001b[1;33m[\u001b[0m\u001b[1;34m\"vocab\"\u001b[0m\u001b[1;33m]\u001b[0m \u001b[1;33m=\u001b[0m \u001b[1;32mlambda\u001b[0m \u001b[0mp\u001b[0m\u001b[1;33m:\u001b[0m \u001b[0mself\u001b[0m\u001b[1;33m.\u001b[0m\u001b[0mvocab\u001b[0m\u001b[1;33m.\u001b[0m\u001b[0mfrom_disk\u001b[0m\u001b[1;33m(\u001b[0m\u001b[0mp\u001b[0m\u001b[1;33m)\u001b[0m \u001b[1;32mand\u001b[0m \u001b[0m_fix_pretrained_vectors_name\u001b[0m\u001b[1;33m(\u001b[0m\u001b[0mself\u001b[0m\u001b[1;33m)\u001b[0m\u001b[1;33m\u001b[0m\u001b[1;33m\u001b[0m\u001b[0m\n\u001b[1;32m--> 776\u001b[1;33m         \u001b[0mdeserializers\u001b[0m\u001b[1;33m[\u001b[0m\u001b[1;34m\"tokenizer\"\u001b[0m\u001b[1;33m]\u001b[0m \u001b[1;33m=\u001b[0m \u001b[1;32mlambda\u001b[0m \u001b[0mp\u001b[0m\u001b[1;33m:\u001b[0m \u001b[0mself\u001b[0m\u001b[1;33m.\u001b[0m\u001b[0mtokenizer\u001b[0m\u001b[1;33m.\u001b[0m\u001b[0mfrom_disk\u001b[0m\u001b[1;33m(\u001b[0m\u001b[0mp\u001b[0m\u001b[1;33m,\u001b[0m \u001b[0mexclude\u001b[0m\u001b[1;33m=\u001b[0m\u001b[1;33m[\u001b[0m\u001b[1;34m\"vocab\"\u001b[0m\u001b[1;33m]\u001b[0m\u001b[1;33m)\u001b[0m\u001b[1;33m\u001b[0m\u001b[1;33m\u001b[0m\u001b[0m\n\u001b[0m\u001b[0;32m    777\u001b[0m         \u001b[1;32mfor\u001b[0m \u001b[0mname\u001b[0m\u001b[1;33m,\u001b[0m \u001b[0mproc\u001b[0m \u001b[1;32min\u001b[0m \u001b[0mself\u001b[0m\u001b[1;33m.\u001b[0m\u001b[0mpipeline\u001b[0m\u001b[1;33m:\u001b[0m\u001b[1;33m\u001b[0m\u001b[1;33m\u001b[0m\u001b[0m\n\u001b[0;32m    778\u001b[0m             \u001b[1;32mif\u001b[0m \u001b[0mname\u001b[0m \u001b[1;32min\u001b[0m \u001b[0mexclude\u001b[0m\u001b[1;33m:\u001b[0m\u001b[1;33m\u001b[0m\u001b[1;33m\u001b[0m\u001b[0m\n",
      "\u001b[1;32mtokenizer.pyx\u001b[0m in \u001b[0;36mspacy.tokenizer.Tokenizer.from_disk\u001b[1;34m()\u001b[0m\n",
      "\u001b[1;32mtokenizer.pyx\u001b[0m in \u001b[0;36mspacy.tokenizer.Tokenizer.from_bytes\u001b[1;34m()\u001b[0m\n",
      "\u001b[1;32mC:\\ProgramData\\Anaconda3\\lib\\re.py\u001b[0m in \u001b[0;36mcompile\u001b[1;34m(pattern, flags)\u001b[0m\n\u001b[0;32m    232\u001b[0m \u001b[1;32mdef\u001b[0m \u001b[0mcompile\u001b[0m\u001b[1;33m(\u001b[0m\u001b[0mpattern\u001b[0m\u001b[1;33m,\u001b[0m \u001b[0mflags\u001b[0m\u001b[1;33m=\u001b[0m\u001b[1;36m0\u001b[0m\u001b[1;33m)\u001b[0m\u001b[1;33m:\u001b[0m\u001b[1;33m\u001b[0m\u001b[1;33m\u001b[0m\u001b[0m\n\u001b[0;32m    233\u001b[0m     \u001b[1;34m\"Compile a regular expression pattern, returning a Pattern object.\"\u001b[0m\u001b[1;33m\u001b[0m\u001b[1;33m\u001b[0m\u001b[0m\n\u001b[1;32m--> 234\u001b[1;33m     \u001b[1;32mreturn\u001b[0m \u001b[0m_compile\u001b[0m\u001b[1;33m(\u001b[0m\u001b[0mpattern\u001b[0m\u001b[1;33m,\u001b[0m \u001b[0mflags\u001b[0m\u001b[1;33m)\u001b[0m\u001b[1;33m\u001b[0m\u001b[1;33m\u001b[0m\u001b[0m\n\u001b[0m\u001b[0;32m    235\u001b[0m \u001b[1;33m\u001b[0m\u001b[0m\n\u001b[0;32m    236\u001b[0m \u001b[1;32mdef\u001b[0m \u001b[0mpurge\u001b[0m\u001b[1;33m(\u001b[0m\u001b[1;33m)\u001b[0m\u001b[1;33m:\u001b[0m\u001b[1;33m\u001b[0m\u001b[1;33m\u001b[0m\u001b[0m\n",
      "\u001b[1;32mC:\\ProgramData\\Anaconda3\\lib\\re.py\u001b[0m in \u001b[0;36m_compile\u001b[1;34m(pattern, flags)\u001b[0m\n\u001b[0;32m    284\u001b[0m     \u001b[1;32mif\u001b[0m \u001b[1;32mnot\u001b[0m \u001b[0msre_compile\u001b[0m\u001b[1;33m.\u001b[0m\u001b[0misstring\u001b[0m\u001b[1;33m(\u001b[0m\u001b[0mpattern\u001b[0m\u001b[1;33m)\u001b[0m\u001b[1;33m:\u001b[0m\u001b[1;33m\u001b[0m\u001b[1;33m\u001b[0m\u001b[0m\n\u001b[0;32m    285\u001b[0m         \u001b[1;32mraise\u001b[0m \u001b[0mTypeError\u001b[0m\u001b[1;33m(\u001b[0m\u001b[1;34m\"first argument must be string or compiled pattern\"\u001b[0m\u001b[1;33m)\u001b[0m\u001b[1;33m\u001b[0m\u001b[1;33m\u001b[0m\u001b[0m\n\u001b[1;32m--> 286\u001b[1;33m     \u001b[0mp\u001b[0m \u001b[1;33m=\u001b[0m \u001b[0msre_compile\u001b[0m\u001b[1;33m.\u001b[0m\u001b[0mcompile\u001b[0m\u001b[1;33m(\u001b[0m\u001b[0mpattern\u001b[0m\u001b[1;33m,\u001b[0m \u001b[0mflags\u001b[0m\u001b[1;33m)\u001b[0m\u001b[1;33m\u001b[0m\u001b[1;33m\u001b[0m\u001b[0m\n\u001b[0m\u001b[0;32m    287\u001b[0m     \u001b[1;32mif\u001b[0m \u001b[1;32mnot\u001b[0m \u001b[1;33m(\u001b[0m\u001b[0mflags\u001b[0m \u001b[1;33m&\u001b[0m \u001b[0mDEBUG\u001b[0m\u001b[1;33m)\u001b[0m\u001b[1;33m:\u001b[0m\u001b[1;33m\u001b[0m\u001b[1;33m\u001b[0m\u001b[0m\n\u001b[0;32m    288\u001b[0m         \u001b[1;32mif\u001b[0m \u001b[0mlen\u001b[0m\u001b[1;33m(\u001b[0m\u001b[0m_cache\u001b[0m\u001b[1;33m)\u001b[0m \u001b[1;33m>=\u001b[0m \u001b[0m_MAXCACHE\u001b[0m\u001b[1;33m:\u001b[0m\u001b[1;33m\u001b[0m\u001b[1;33m\u001b[0m\u001b[0m\n",
      "\u001b[1;32mC:\\ProgramData\\Anaconda3\\lib\\sre_compile.py\u001b[0m in \u001b[0;36mcompile\u001b[1;34m(p, flags)\u001b[0m\n\u001b[0;32m    762\u001b[0m     \u001b[1;32mif\u001b[0m \u001b[0misstring\u001b[0m\u001b[1;33m(\u001b[0m\u001b[0mp\u001b[0m\u001b[1;33m)\u001b[0m\u001b[1;33m:\u001b[0m\u001b[1;33m\u001b[0m\u001b[1;33m\u001b[0m\u001b[0m\n\u001b[0;32m    763\u001b[0m         \u001b[0mpattern\u001b[0m \u001b[1;33m=\u001b[0m \u001b[0mp\u001b[0m\u001b[1;33m\u001b[0m\u001b[1;33m\u001b[0m\u001b[0m\n\u001b[1;32m--> 764\u001b[1;33m         \u001b[0mp\u001b[0m \u001b[1;33m=\u001b[0m \u001b[0msre_parse\u001b[0m\u001b[1;33m.\u001b[0m\u001b[0mparse\u001b[0m\u001b[1;33m(\u001b[0m\u001b[0mp\u001b[0m\u001b[1;33m,\u001b[0m \u001b[0mflags\u001b[0m\u001b[1;33m)\u001b[0m\u001b[1;33m\u001b[0m\u001b[1;33m\u001b[0m\u001b[0m\n\u001b[0m\u001b[0;32m    765\u001b[0m     \u001b[1;32melse\u001b[0m\u001b[1;33m:\u001b[0m\u001b[1;33m\u001b[0m\u001b[1;33m\u001b[0m\u001b[0m\n\u001b[0;32m    766\u001b[0m         \u001b[0mpattern\u001b[0m \u001b[1;33m=\u001b[0m \u001b[1;32mNone\u001b[0m\u001b[1;33m\u001b[0m\u001b[1;33m\u001b[0m\u001b[0m\n",
      "\u001b[1;32mC:\\ProgramData\\Anaconda3\\lib\\sre_parse.py\u001b[0m in \u001b[0;36mparse\u001b[1;34m(str, flags, pattern)\u001b[0m\n\u001b[0;32m    922\u001b[0m \u001b[1;33m\u001b[0m\u001b[0m\n\u001b[0;32m    923\u001b[0m     \u001b[1;32mtry\u001b[0m\u001b[1;33m:\u001b[0m\u001b[1;33m\u001b[0m\u001b[1;33m\u001b[0m\u001b[0m\n\u001b[1;32m--> 924\u001b[1;33m         \u001b[0mp\u001b[0m \u001b[1;33m=\u001b[0m \u001b[0m_parse_sub\u001b[0m\u001b[1;33m(\u001b[0m\u001b[0msource\u001b[0m\u001b[1;33m,\u001b[0m \u001b[0mpattern\u001b[0m\u001b[1;33m,\u001b[0m \u001b[0mflags\u001b[0m \u001b[1;33m&\u001b[0m \u001b[0mSRE_FLAG_VERBOSE\u001b[0m\u001b[1;33m,\u001b[0m \u001b[1;36m0\u001b[0m\u001b[1;33m)\u001b[0m\u001b[1;33m\u001b[0m\u001b[1;33m\u001b[0m\u001b[0m\n\u001b[0m\u001b[0;32m    925\u001b[0m     \u001b[1;32mexcept\u001b[0m \u001b[0mVerbose\u001b[0m\u001b[1;33m:\u001b[0m\u001b[1;33m\u001b[0m\u001b[1;33m\u001b[0m\u001b[0m\n\u001b[0;32m    926\u001b[0m         \u001b[1;31m# the VERBOSE flag was switched on inside the pattern.  to be\u001b[0m\u001b[1;33m\u001b[0m\u001b[1;33m\u001b[0m\u001b[1;33m\u001b[0m\u001b[0m\n",
      "\u001b[1;32mC:\\ProgramData\\Anaconda3\\lib\\sre_parse.py\u001b[0m in \u001b[0;36m_parse_sub\u001b[1;34m(source, state, verbose, nested)\u001b[0m\n\u001b[0;32m    418\u001b[0m     \u001b[1;32mwhile\u001b[0m \u001b[1;32mTrue\u001b[0m\u001b[1;33m:\u001b[0m\u001b[1;33m\u001b[0m\u001b[1;33m\u001b[0m\u001b[0m\n\u001b[0;32m    419\u001b[0m         itemsappend(_parse(source, state, verbose, nested + 1,\n\u001b[1;32m--> 420\u001b[1;33m                            not nested and not items))\n\u001b[0m\u001b[0;32m    421\u001b[0m         \u001b[1;32mif\u001b[0m \u001b[1;32mnot\u001b[0m \u001b[0msourcematch\u001b[0m\u001b[1;33m(\u001b[0m\u001b[1;34m\"|\"\u001b[0m\u001b[1;33m)\u001b[0m\u001b[1;33m:\u001b[0m\u001b[1;33m\u001b[0m\u001b[1;33m\u001b[0m\u001b[0m\n\u001b[0;32m    422\u001b[0m             \u001b[1;32mbreak\u001b[0m\u001b[1;33m\u001b[0m\u001b[1;33m\u001b[0m\u001b[0m\n",
      "\u001b[1;32mC:\\ProgramData\\Anaconda3\\lib\\sre_parse.py\u001b[0m in \u001b[0;36m_parse\u001b[1;34m(source, state, verbose, nested, first)\u001b[0m\n\u001b[0;32m    528\u001b[0m                     \u001b[1;32mbreak\u001b[0m\u001b[1;33m\u001b[0m\u001b[1;33m\u001b[0m\u001b[0m\n\u001b[0;32m    529\u001b[0m                 \u001b[1;32melif\u001b[0m \u001b[0mthis\u001b[0m\u001b[1;33m[\u001b[0m\u001b[1;36m0\u001b[0m\u001b[1;33m]\u001b[0m \u001b[1;33m==\u001b[0m \u001b[1;34m\"\\\\\"\u001b[0m\u001b[1;33m:\u001b[0m\u001b[1;33m\u001b[0m\u001b[1;33m\u001b[0m\u001b[0m\n\u001b[1;32m--> 530\u001b[1;33m                     \u001b[0mcode1\u001b[0m \u001b[1;33m=\u001b[0m \u001b[0m_class_escape\u001b[0m\u001b[1;33m(\u001b[0m\u001b[0msource\u001b[0m\u001b[1;33m,\u001b[0m \u001b[0mthis\u001b[0m\u001b[1;33m)\u001b[0m\u001b[1;33m\u001b[0m\u001b[1;33m\u001b[0m\u001b[0m\n\u001b[0m\u001b[0;32m    531\u001b[0m                 \u001b[1;32melse\u001b[0m\u001b[1;33m:\u001b[0m\u001b[1;33m\u001b[0m\u001b[1;33m\u001b[0m\u001b[0m\n\u001b[0;32m    532\u001b[0m                     \u001b[1;32mif\u001b[0m \u001b[0mset\u001b[0m \u001b[1;32mand\u001b[0m \u001b[0mthis\u001b[0m \u001b[1;32min\u001b[0m \u001b[1;34m'-&~|'\u001b[0m \u001b[1;32mand\u001b[0m \u001b[0msource\u001b[0m\u001b[1;33m.\u001b[0m\u001b[0mnext\u001b[0m \u001b[1;33m==\u001b[0m \u001b[0mthis\u001b[0m\u001b[1;33m:\u001b[0m\u001b[1;33m\u001b[0m\u001b[1;33m\u001b[0m\u001b[0m\n",
      "\u001b[1;32mC:\\ProgramData\\Anaconda3\\lib\\sre_parse.py\u001b[0m in \u001b[0;36m_class_escape\u001b[1;34m(source, escape)\u001b[0m\n\u001b[0;32m    335\u001b[0m         \u001b[1;32mif\u001b[0m \u001b[0mlen\u001b[0m\u001b[1;33m(\u001b[0m\u001b[0mescape\u001b[0m\u001b[1;33m)\u001b[0m \u001b[1;33m==\u001b[0m \u001b[1;36m2\u001b[0m\u001b[1;33m:\u001b[0m\u001b[1;33m\u001b[0m\u001b[1;33m\u001b[0m\u001b[0m\n\u001b[0;32m    336\u001b[0m             \u001b[1;32mif\u001b[0m \u001b[0mc\u001b[0m \u001b[1;32min\u001b[0m \u001b[0mASCIILETTERS\u001b[0m\u001b[1;33m:\u001b[0m\u001b[1;33m\u001b[0m\u001b[1;33m\u001b[0m\u001b[0m\n\u001b[1;32m--> 337\u001b[1;33m                 \u001b[1;32mraise\u001b[0m \u001b[0msource\u001b[0m\u001b[1;33m.\u001b[0m\u001b[0merror\u001b[0m\u001b[1;33m(\u001b[0m\u001b[1;34m'bad escape %s'\u001b[0m \u001b[1;33m%\u001b[0m \u001b[0mescape\u001b[0m\u001b[1;33m,\u001b[0m \u001b[0mlen\u001b[0m\u001b[1;33m(\u001b[0m\u001b[0mescape\u001b[0m\u001b[1;33m)\u001b[0m\u001b[1;33m)\u001b[0m\u001b[1;33m\u001b[0m\u001b[1;33m\u001b[0m\u001b[0m\n\u001b[0m\u001b[0;32m    338\u001b[0m             \u001b[1;32mreturn\u001b[0m \u001b[0mLITERAL\u001b[0m\u001b[1;33m,\u001b[0m \u001b[0mord\u001b[0m\u001b[1;33m(\u001b[0m\u001b[0mescape\u001b[0m\u001b[1;33m[\u001b[0m\u001b[1;36m1\u001b[0m\u001b[1;33m]\u001b[0m\u001b[1;33m)\u001b[0m\u001b[1;33m\u001b[0m\u001b[1;33m\u001b[0m\u001b[0m\n\u001b[0;32m    339\u001b[0m     \u001b[1;32mexcept\u001b[0m \u001b[0mValueError\u001b[0m\u001b[1;33m:\u001b[0m\u001b[1;33m\u001b[0m\u001b[1;33m\u001b[0m\u001b[0m\n",
      "\u001b[1;31merror\u001b[0m: bad escape \\p at position 257"
     ]
    }
   ],
   "source": [
    "import spacy\n",
    "!python -m spacy download en\n",
    "from spacy.lang.en import English\n",
    "parser = English()\n",
    "import en_core_web_sm\n",
    "nlp = spacy.load('en_core_web_sm')"
   ]
  },
  {
   "cell_type": "code",
   "execution_count": 19,
   "metadata": {},
   "outputs": [],
   "source": [
    "def tokenize(text):\n",
    "    lda_tokens = []\n",
    "    tokens = parser(text)\n",
    "    for token in tokens:\n",
    "        if token.orth_.isspace():\n",
    "            continue\n",
    "        elif token.like_url:\n",
    "            lda_tokens.append('URL')\n",
    "        elif token.orth_.startswith('@'):\n",
    "            lda_tokens.append('SCREEN_NAME')\n",
    "        else:\n",
    "            lda_tokens.append(token.lower_)\n",
    "    return lda_tokens"
   ]
  },
  {
   "cell_type": "code",
   "execution_count": 20,
   "metadata": {},
   "outputs": [
    {
     "name": "stderr",
     "output_type": "stream",
     "text": [
      "[nltk_data] Downloading package wordnet to\n",
      "[nltk_data]     C:\\Users\\רועי\\AppData\\Roaming\\nltk_data...\n",
      "[nltk_data]   Package wordnet is already up-to-date!\n"
     ]
    },
    {
     "data": {
      "text/plain": [
       "True"
      ]
     },
     "execution_count": 20,
     "metadata": {},
     "output_type": "execute_result"
    }
   ],
   "source": [
    "import nltk\n",
    "nltk.download('wordnet')"
   ]
  },
  {
   "cell_type": "code",
   "execution_count": 21,
   "metadata": {},
   "outputs": [],
   "source": [
    "from nltk.corpus import wordnet as wn\n",
    "def get_lemma(word):\n",
    "    lemma = wn.morphy(word)\n",
    "    if lemma is None:\n",
    "        return word\n",
    "    else:\n",
    "        return lemma\n",
    "    \n",
    "from nltk.stem.wordnet import WordNetLemmatizer\n",
    "def get_lemma2(word):\n",
    "    return WordNetLemmatizer().lemmatize(word)"
   ]
  },
  {
   "cell_type": "code",
   "execution_count": 22,
   "metadata": {},
   "outputs": [
    {
     "name": "stdout",
     "output_type": "stream",
     "text": [
      "dogs dog dog\n",
      "ran run ran\n",
      "discouraged discourage discouraged\n"
     ]
    }
   ],
   "source": [
    "for w in ['dogs', 'ran', 'discouraged']:\n",
    "    print(w, get_lemma(w), get_lemma2(w))"
   ]
  },
  {
   "cell_type": "code",
   "execution_count": 23,
   "metadata": {},
   "outputs": [
    {
     "name": "stderr",
     "output_type": "stream",
     "text": [
      "[nltk_data] Downloading package stopwords to\n",
      "[nltk_data]     C:\\Users\\רועי\\AppData\\Roaming\\nltk_data...\n",
      "[nltk_data]   Package stopwords is already up-to-date!\n"
     ]
    }
   ],
   "source": [
    "nltk.download('stopwords')\n",
    "en_stop = set(nltk.corpus.stopwords.words('english'))"
   ]
  },
  {
   "cell_type": "code",
   "execution_count": 24,
   "metadata": {},
   "outputs": [],
   "source": [
    "def prepare_text_for_lda(text):\n",
    "    tokens = tokenize(text)\n",
    "    tokens = [token for token in tokens if len(token) > 4]\n",
    "    tokens = [token for token in tokens if token not in en_stop]\n",
    "    tokens = [get_lemma(token) for token in tokens]\n",
    "    return tokens"
   ]
  },
  {
   "cell_type": "code",
   "execution_count": 25,
   "metadata": {},
   "outputs": [
    {
     "name": "stdout",
     "output_type": "stream",
     "text": [
      "['semantic', 'application', 'using', 'information', 'framework']\n",
      "['route', 'performance', 'dependent', 'costs']\n",
      "['noise', 'reduction', 'system', 'base', 'system', 'identification', 'variable']\n",
      "['reconfigurable', 'array', 'concurrent', 'support', 'multiple', 'radio', 'standard', 'flexible', 'mapping']\n",
      "['online', 'dynamic', 'reordering', 'interactive', 'processing']\n",
      "['exploration', 'science', 'instrument', 'observatory']\n",
      "['leveraging', 'interlingual', 'classification', 'improve', 'search']\n",
      "['robot', 'rockstars', 'mix', 'reality']\n",
      "['analysis', 'blocking', 'probability', 'noise', 'crosstalk', 'impair', 'optical', 'network']\n",
      "['spectrum', 'cloud', 'session', 'base', 'spectrum', 'trading', 'system', 'multi', 'cognitive', 'radio', 'network']\n",
      "['division', 'parallel', 'delta', 'sigma', 'converter', 'probabilistic', 'iterative', 'decoding']\n",
      "['modular', 'reduction', 'without', 'precomputational', 'phase']\n",
      "['analog', 'implementation', 'base', 'adaptation', 'denoising']\n",
      "['panoramic', 'imaging', 'system', 'mobile', 'devices']\n",
      "['constraint', 'method', 'flexible', 'model']\n",
      "['exploit', 'session', 'behavior', 'prediction']\n",
      "['computationally', 'efficient', 'iterative', 'decoding', 'storage', 'system', 'design', 'refine']\n",
      "['comparative', 'study', 'cell', 'double', 'statistical', 'variation']\n",
      "['status', 'reputation', 'shape', 'human', 'evaluation', 'consequence', 'recommender', 'system']\n",
      "['joint', 'diagonalization', 'blind', 'signal', 'processing']\n",
      "['impact', 'threshold', 'voltage', 'mismatch', 'current', 'steering', '931;&#916', 'modulators']\n",
      "['image', 'base', 'visual', 'hull']\n",
      "['distortion', 'fourth', 'order', 'bandpass', 'delta', 'sigma', 'modulator']\n",
      "['comparative', 'browser', 'browsing', 'comparing', 'page']\n",
      "['resource', 'control', 'sensitive', 'traffic', 'network']\n",
      "['scalable', 'solution', 'error', 'tolerant', 'circuit', 'design']\n",
      "['selection', 'reduce', 'encoding', 'complexity', 'h.264']\n",
      "['building', 'structure', 'community', 'portal', 'compositional', 'incremental', 'approach']\n",
      "['limit', 'cycle', 'control', 'application', 'animation', 'balancing', 'walking']\n",
      "['towards', 'transparent', 'flexible', 'scalable', 'disposable', 'image', 'sensor']\n",
      "['modelling', 'deterministic', 'query', 'update', 'deductive', 'database']\n",
      "['adaptive', 'bandwidth', 'reduction', 'scheme', 'video', 'coding']\n",
      "['operate', 'system', 'modeling', 'system', 'level', 'design', 'environment']\n",
      "['marketplace', 'system', 'advertising', 'opportunity', 'datacasting']\n",
      "['oscillator', 'topology', '0.18&micro;m', 'technology']\n",
      "['100-db', 'dynamic', 'range', '24.4-khz', 'bandwidth', 'delta', 'sigma', 'modulator']\n",
      "['algorithm', 'generation', 'quaternary', 'fix', 'polarity', 'arithmetic', 'spectrum']\n"
     ]
    }
   ],
   "source": [
    "import random\n",
    "text_data = []\n",
    "with open('Topic_modeling_Example.csv') as f:\n",
    "    for line in f:\n",
    "        tokens = prepare_text_for_lda(line)\n",
    "        if random.random() > .99:\n",
    "            print(tokens)\n",
    "            text_data.append(tokens)"
   ]
  },
  {
   "cell_type": "code",
   "execution_count": 26,
   "metadata": {},
   "outputs": [],
   "source": [
    "from gensim import corpora\n",
    "dictionary = corpora.Dictionary(text_data)"
   ]
  },
  {
   "cell_type": "code",
   "execution_count": 27,
   "metadata": {},
   "outputs": [],
   "source": [
    "corpus = [dictionary.doc2bow(text) for text in text_data]"
   ]
  },
  {
   "cell_type": "code",
   "execution_count": 28,
   "metadata": {},
   "outputs": [],
   "source": [
    "import pickle\n",
    "pickle.dump(corpus, open('corpus.pkl', 'wb'))\n",
    "dictionary.save('dictionary.gensim')"
   ]
  },
  {
   "cell_type": "markdown",
   "metadata": {},
   "source": [
    "### Try 5 topics"
   ]
  },
  {
   "cell_type": "code",
   "execution_count": 29,
   "metadata": {},
   "outputs": [],
   "source": [
    "import gensim\n",
    "NUM_TOPICS = 5\n",
    "ldamodel = gensim.models.ldamodel.LdaModel(corpus, num_topics = NUM_TOPICS, id2word=dictionary, passes=15)\n",
    "ldamodel.save('model5.gensim')"
   ]
  },
  {
   "cell_type": "code",
   "execution_count": 30,
   "metadata": {},
   "outputs": [
    {
     "name": "stdout",
     "output_type": "stream",
     "text": [
      "(0, '0.030*\"sigma\" + 0.030*\"delta\" + 0.030*\"modulator\" + 0.016*\"dynamic\"')\n",
      "(1, '0.054*\"system\" + 0.028*\"base\" + 0.028*\"spectrum\" + 0.019*\"iterative\"')\n",
      "(2, '0.018*\"reduction\" + 0.018*\"approach\" + 0.018*\"building\" + 0.018*\"compositional\"')\n",
      "(3, '0.026*\"network\" + 0.026*\"processing\" + 0.014*\"noise\" + 0.014*\"comparative\"')\n",
      "(4, '0.046*\"system\" + 0.031*\"flexible\" + 0.017*\"image\" + 0.017*\"design\"')\n"
     ]
    }
   ],
   "source": [
    "topics = ldamodel.print_topics(num_words=4)\n",
    "for topic in topics:\n",
    "    print(topic)"
   ]
  },
  {
   "cell_type": "code",
   "execution_count": 31,
   "metadata": {},
   "outputs": [
    {
     "name": "stdout",
     "output_type": "stream",
     "text": [
      "[(179, 1)]\n",
      "[(0, 0.100036986), (1, 0.59985054), (2, 0.100040704), (3, 0.10003277), (4, 0.100039005)]\n"
     ]
    }
   ],
   "source": [
    "new_doc = 'Practical Bayesian Optimization of Machine Learning Algorithms'\n",
    "new_doc = prepare_text_for_lda(new_doc)\n",
    "new_doc_bow = dictionary.doc2bow(new_doc)\n",
    "print(new_doc_bow)\n",
    "print(ldamodel.get_document_topics(new_doc_bow))"
   ]
  },
  {
   "cell_type": "code",
   "execution_count": 32,
   "metadata": {},
   "outputs": [
    {
     "name": "stdout",
     "output_type": "stream",
     "text": [
      "(0, '0.021*\"spectrum\" + 0.014*\"base\" + 0.014*\"sigma\" + 0.014*\"delta\"')\n",
      "(1, '0.063*\"system\" + 0.020*\"reduction\" + 0.011*\"base\" + 0.011*\"noise\"')\n",
      "(2, '0.018*\"flexible\" + 0.010*\"processing\" + 0.010*\"comparative\" + 0.010*\"radio\"')\n"
     ]
    }
   ],
   "source": [
    "ldamodel = gensim.models.ldamodel.LdaModel(corpus, num_topics = 3, id2word=dictionary, passes=15)\n",
    "ldamodel.save('model3.gensim')\n",
    "topics = ldamodel.print_topics(num_words=4)\n",
    "for topic in topics:\n",
    "    print(topic)"
   ]
  },
  {
   "cell_type": "code",
   "execution_count": 33,
   "metadata": {},
   "outputs": [
    {
     "name": "stdout",
     "output_type": "stream",
     "text": [
      "(0, '0.033*\"control\" + 0.033*\"application\" + 0.033*\"balancing\" + 0.033*\"cycle\"')\n",
      "(1, '0.097*\"system\" + 0.059*\"base\" + 0.040*\"spectrum\" + 0.040*\"network\"')\n",
      "(2, '0.031*\"deterministic\" + 0.031*\"modelling\" + 0.031*\"update\" + 0.031*\"deductive\"')\n",
      "(3, '0.023*\"flexible\" + 0.023*\"bandwidth\" + 0.023*\"dynamic\" + 0.023*\"modulator\"')\n",
      "(4, '0.033*\"reduction\" + 0.033*\"comparative\" + 0.033*\"phase\" + 0.033*\"page\"')\n",
      "(5, '0.029*\"processing\" + 0.029*\"study\" + 0.029*\"statistical\" + 0.029*\"cell\"')\n",
      "(6, '0.023*\"image\" + 0.023*\"fourth\" + 0.023*\"distortion\" + 0.023*\"order\"')\n",
      "(7, '0.026*\"sigma\" + 0.026*\"delta\" + 0.026*\"incremental\" + 0.026*\"community\"')\n",
      "(8, '0.029*\"design\" + 0.029*\"iterative\" + 0.029*\"decoding\" + 0.029*\"efficient\"')\n",
      "(9, '0.028*\"noise\" + 0.028*\"optical\" + 0.028*\"mismatch\" + 0.028*\"modulators\"')\n"
     ]
    }
   ],
   "source": [
    "ldamodel = gensim.models.ldamodel.LdaModel(corpus, num_topics = 10, id2word=dictionary, passes=15)\n",
    "ldamodel.save('model10.gensim')\n",
    "topics = ldamodel.print_topics(num_words=4)\n",
    "for topic in topics:\n",
    "    print(topic)"
   ]
  },
  {
   "cell_type": "markdown",
   "metadata": {},
   "source": [
    "### pyLDAvis"
   ]
  },
  {
   "cell_type": "code",
   "execution_count": 34,
   "metadata": {},
   "outputs": [],
   "source": [
    "dictionary = gensim.corpora.Dictionary.load('dictionary.gensim')\n",
    "corpus = pickle.load(open('corpus.pkl', 'rb'))\n",
    "lda = gensim.models.ldamodel.LdaModel.load('model5.gensim')"
   ]
  },
  {
   "cell_type": "code",
   "execution_count": 35,
   "metadata": {},
   "outputs": [
    {
     "name": "stderr",
     "output_type": "stream",
     "text": [
      "C:\\ProgramData\\Anaconda3\\lib\\site-packages\\pyLDAvis\\_prepare.py:257: FutureWarning: Sorting because non-concatenation axis is not aligned. A future version\n",
      "of pandas will change to not sort by default.\n",
      "\n",
      "To accept the future behavior, pass 'sort=False'.\n",
      "\n",
      "To retain the current behavior and silence the warning, pass 'sort=True'.\n",
      "\n",
      "  return pd.concat([default_term_info] + list(topic_dfs))\n"
     ]
    },
    {
     "data": {
      "text/html": [
       "\n",
       "<link rel=\"stylesheet\" type=\"text/css\" href=\"https://cdn.rawgit.com/bmabey/pyLDAvis/files/ldavis.v1.0.0.css\">\n",
       "\n",
       "\n",
       "<div id=\"ldavis_el559221464914043604389938917\"></div>\n",
       "<script type=\"text/javascript\">\n",
       "\n",
       "var ldavis_el559221464914043604389938917_data = {\"mdsDat\": {\"x\": [0.022457597663201375, -0.126000506889427, 0.03360436710617005, 0.10272249350619131, -0.032783951386135726], \"y\": [0.07750356957509691, -0.05615100211961957, 0.047012881539016504, -0.09325553783603978, 0.024890088841545827], \"topics\": [1, 2, 3, 4, 5], \"cluster\": [1, 1, 1, 1, 1], \"Freq\": [17.039791107177734, 32.60112762451172, 13.985808372497559, 20.75574493408203, 15.617521286010742]}, \"tinfo\": {\"Category\": [\"Default\", \"Default\", \"Default\", \"Default\", \"Default\", \"Default\", \"Default\", \"Default\", \"Default\", \"Default\", \"Default\", \"Default\", \"Default\", \"Default\", \"Default\", \"Default\", \"Default\", \"Default\", \"Default\", \"Default\", \"Default\", \"Default\", \"Default\", \"Default\", \"Default\", \"Default\", \"Default\", \"Default\", \"Default\", \"Default\", \"Topic1\", \"Topic1\", \"Topic1\", \"Topic1\", \"Topic1\", \"Topic1\", \"Topic1\", \"Topic1\", \"Topic1\", \"Topic1\", \"Topic1\", \"Topic1\", \"Topic1\", \"Topic1\", \"Topic1\", \"Topic1\", \"Topic1\", \"Topic1\", \"Topic1\", \"Topic1\", \"Topic1\", \"Topic1\", \"Topic1\", \"Topic1\", \"Topic1\", \"Topic1\", \"Topic1\", \"Topic1\", \"Topic1\", \"Topic1\", \"Topic1\", \"Topic1\", \"Topic1\", \"Topic2\", \"Topic2\", \"Topic2\", \"Topic2\", \"Topic2\", \"Topic2\", \"Topic2\", \"Topic2\", \"Topic2\", \"Topic2\", \"Topic2\", \"Topic2\", \"Topic2\", \"Topic2\", \"Topic2\", \"Topic2\", \"Topic2\", \"Topic2\", \"Topic2\", \"Topic2\", \"Topic2\", \"Topic2\", \"Topic2\", \"Topic2\", \"Topic2\", \"Topic2\", \"Topic2\", \"Topic2\", \"Topic2\", \"Topic2\", \"Topic2\", \"Topic3\", \"Topic3\", \"Topic3\", \"Topic3\", \"Topic3\", \"Topic3\", \"Topic3\", \"Topic3\", \"Topic3\", \"Topic3\", \"Topic3\", \"Topic3\", \"Topic3\", \"Topic3\", \"Topic3\", \"Topic3\", \"Topic3\", \"Topic3\", \"Topic3\", \"Topic3\", \"Topic3\", \"Topic3\", \"Topic3\", \"Topic3\", \"Topic3\", \"Topic3\", \"Topic3\", \"Topic3\", \"Topic3\", \"Topic3\", \"Topic4\", \"Topic4\", \"Topic4\", \"Topic4\", \"Topic4\", \"Topic4\", \"Topic4\", \"Topic4\", \"Topic4\", \"Topic4\", \"Topic4\", \"Topic4\", \"Topic4\", \"Topic4\", \"Topic4\", \"Topic4\", \"Topic4\", \"Topic4\", \"Topic4\", \"Topic4\", \"Topic4\", \"Topic4\", \"Topic4\", \"Topic4\", \"Topic4\", \"Topic4\", \"Topic4\", \"Topic4\", \"Topic4\", \"Topic4\", \"Topic4\", \"Topic4\", \"Topic4\", \"Topic4\", \"Topic4\", \"Topic4\", \"Topic4\", \"Topic5\", \"Topic5\", \"Topic5\", \"Topic5\", \"Topic5\", \"Topic5\", \"Topic5\", \"Topic5\", \"Topic5\", \"Topic5\", \"Topic5\", \"Topic5\", \"Topic5\", \"Topic5\", \"Topic5\", \"Topic5\", \"Topic5\", \"Topic5\", \"Topic5\", \"Topic5\", \"Topic5\", \"Topic5\", \"Topic5\", \"Topic5\", \"Topic5\", \"Topic5\", \"Topic5\", \"Topic5\", \"Topic5\", \"Topic5\"], \"Freq\": [5.0, 2.0, 1.0, 2.0, 2.0, 1.0, 1.0, 1.0, 1.0, 2.0, 2.0, 2.0, 1.0, 1.0, 1.0, 1.0, 1.0, 1.0, 1.0, 1.0, 1.0, 1.0, 1.0, 1.0, 1.0, 1.0, 1.0, 1.0, 1.0, 1.0, 1.1347393989562988, 0.6189407110214233, 0.6189404726028442, 0.6189400553703308, 0.6189398765563965, 0.6189396381378174, 0.6189396381378174, 0.6189394593238831, 0.6189392805099487, 0.6189391016960144, 0.6189388036727905, 0.6189384460449219, 0.618937611579895, 0.6189342737197876, 0.6189342737197876, 0.618934154510498, 0.6189318299293518, 0.6189290285110474, 0.6189289093017578, 0.6189285516738892, 0.618928074836731, 0.6186630725860596, 0.6185427308082581, 0.6185177564620972, 0.6185122728347778, 1.1359169483184814, 1.1359158754348755, 0.6190205812454224, 0.6189839243888855, 0.6184154152870178, 0.6192921996116638, 0.6192418932914734, 0.6186301112174988, 2.050065279006958, 1.4094092845916748, 1.4094079732894897, 2.0510754585266113, 3.9720382690429688, 0.7687591910362244, 0.7687590718269348, 0.7687584757804871, 0.7687578797340393, 0.7687537670135498, 0.7687536478042603, 0.7687532305717468, 0.7687531113624573, 0.7687528133392334, 0.7687526941299438, 0.7687526345252991, 0.7687522768974304, 0.7687522768974304, 0.76875239610672, 0.7687522768974304, 0.7687522768974304, 0.7687518000602722, 0.7687514424324036, 0.7687506079673767, 0.7687503099441528, 0.7687501907348633, 0.7687497138977051, 0.7687497138977051, 0.7687496542930603, 0.7687492966651917, 0.7687597870826721, 0.5610579252243042, 0.5610578060150146, 0.5610578060150146, 0.5610575079917908, 0.5610572695732117, 0.5610570907592773, 0.5610558986663818, 0.5610558390617371, 0.5610554218292236, 0.5610554218292236, 0.5610545873641968, 0.5610533356666565, 0.5610532164573669, 0.5610533356666565, 0.5610522031784058, 0.5610499382019043, 0.5610498189926147, 0.5610494613647461, 0.5610489845275879, 0.5610484480857849, 0.5610483884811401, 0.5610483288764954, 0.5610483288764954, 0.5610476732254028, 0.5610471963882446, 0.5610212087631226, 0.5609866976737976, 0.5610544085502625, 0.559809684753418, 0.5617579221725464, 1.2176480293273926, 0.6641671061515808, 0.664167046546936, 0.6641669273376465, 0.6641668081283569, 0.6641667485237122, 0.6641668081283569, 0.6641668081283569, 0.6641666889190674, 0.6641665697097778, 0.6641663312911987, 0.6641660928726196, 0.6641658544540405, 0.6641657948493958, 0.6641653180122375, 0.6641620993614197, 0.6641618013381958, 0.6641615033149719, 0.6641613841056824, 0.6641611456871033, 0.6641606688499451, 0.664158821105957, 0.6641584634780884, 0.664158284664154, 0.6641581654548645, 0.6641579270362854, 0.6641578674316406, 0.6641577482223511, 0.6641573905944824, 0.6641573905944824, 0.6641573905944824, 1.218194842338562, 0.6641573905944824, 0.6641572713851929, 0.6641572117805481, 0.6644966006278992, 0.6644048690795898, 0.5996408462524414, 0.5996407866477966, 0.5996406078338623, 0.5996403694152832, 0.5996403098106384, 0.5996401906013489, 0.5996401309967041, 0.5996382832527161, 0.5996376276016235, 0.5996371507644653, 0.5996370911598206, 0.5996370911598206, 0.5996370315551758, 0.5996368527412415, 0.5996363759040833, 0.5996327996253967, 0.599632740020752, 0.5996325612068176, 0.599632203578949, 0.5996323823928833, 0.5996321439743042, 0.5996317863464355, 0.5996317863464355, 0.5996307730674744, 1.1006847620010376, 0.599777340888977, 0.6005955338478088, 0.5998599529266357, 0.600092351436615, 1.5990514755249023], \"Term\": [\"system\", \"flexible\", \"modulator\", \"sigma\", \"delta\", \"processing\", \"bandwidth\", \"application\", \"scalable\", \"spectrum\", \"base\", \"network\", \"approach\", \"compositional\", \"building\", \"community\", \"portal\", \"incremental\", \"structure\", \"scheme\", \"adaptive\", \"video\", \"coding\", \"information\", \"framework\", \"using\", \"semantic\", \"dependent\", \"route\", \"exploit\", \"modulator\", \"100-db\", \"range\", \"fourth\", \"order\", \"balancing\", \"24.4-khz\", \"animation\", \"cycle\", \"distortion\", \"walking\", \"limit\", \"bandpass\", \"denoising\", \"implementation\", \"analog\", \"adaptation\", \"science\", \"instrument\", \"observatory\", \"exploration\", \"solution\", \"tolerant\", \"error\", \"circuit\", \"sigma\", \"delta\", \"application\", \"bandwidth\", \"scalable\", \"dynamic\", \"control\", \"design\", \"spectrum\", \"iterative\", \"decoding\", \"base\", \"system\", \"cognitive\", \"trading\", \"multi\", \"cloud\", \"reputation\", \"evaluation\", \"human\", \"consequence\", \"storage\", \"efficient\", \"division\", \"parallel\", \"refine\", \"status\", \"converter\", \"shape\", \"recommender\", \"computationally\", \"probabilistic\", \"fix\", \"generation\", \"quaternary\", \"arithmetic\", \"algorithm\", \"variable\", \"session\", \"approach\", \"compositional\", \"building\", \"community\", \"portal\", \"incremental\", \"structure\", \"scheme\", \"video\", \"adaptive\", \"coding\", \"information\", \"using\", \"framework\", \"semantic\", \"dependent\", \"route\", \"exploit\", \"performance\", \"behavior\", \"model\", \"costs\", \"constraint\", \"prediction\", \"method\", \"bandwidth\", \"application\", \"session\", \"flexible\", \"reduction\", \"processing\", \"impact\", \"current\", \"probability\", \"steering\", \"optical\", \"mismatch\", \"analysis\", \"impair\", \"threshold\", \"modulators\", \"crosstalk\", \"voltage\", \"blocking\", \"931;&#916\", \"modelling\", \"query\", \"database\", \"deductive\", \"update\", \"deterministic\", \"modular\", \"joint\", \"blind\", \"interactive\", \"reordering\", \"page\", \"sensitive\", \"without\", \"precomputational\", \"phase\", \"network\", \"browsing\", \"resource\", \"diagonalization\", \"noise\", \"comparative\", \"array\", \"reconfigurable\", \"concurrent\", \"support\", \"standard\", \"multiple\", \"mapping\", \"sensor\", \"environment\", \"level\", \"operate\", \"disposable\", \"modeling\", \"transparent\", \"towards\", \"interlingual\", \"marketplace\", \"leveraging\", \"classification\", \"datacasting\", \"search\", \"opportunity\", \"improve\", \"advertising\", \"flexible\", \"scalable\", \"image\", \"radio\", \"design\", \"system\"], \"Total\": [5.0, 2.0, 1.0, 2.0, 2.0, 1.0, 1.0, 1.0, 1.0, 2.0, 2.0, 2.0, 1.0, 1.0, 1.0, 1.0, 1.0, 1.0, 1.0, 1.0, 1.0, 1.0, 1.0, 1.0, 1.0, 1.0, 1.0, 1.0, 1.0, 1.0, 1.5670363903045654, 1.0512363910675049, 1.0512363910675049, 1.0512362718582153, 1.0512362718582153, 1.0512363910675049, 1.0512363910675049, 1.0512363910675049, 1.0512362718582153, 1.0512365102767944, 1.0512363910675049, 1.0512363910675049, 1.0512365102767944, 1.0512361526489258, 1.0512362718582153, 1.0512361526489258, 1.0512362718582153, 1.0512360334396362, 1.0512361526489258, 1.0512361526489258, 1.0512360334396362, 1.0512105226516724, 1.0511993169784546, 1.051196813583374, 1.051196575164795, 2.207390069961548, 2.207390308380127, 1.5188013315200806, 1.5187978744506836, 1.5509032011032104, 1.6046913862228394, 1.6046947240829468, 2.191397190093994, 2.457395315170288, 1.8167392015457153, 1.8167388439178467, 2.9733831882476807, 5.8784966468811035, 1.1760836839675903, 1.1760836839675903, 1.1760835647583008, 1.1760834455490112, 1.1760823726654053, 1.1760823726654053, 1.1760822534561157, 1.1760822534561157, 1.1760820150375366, 1.1760820150375366, 1.1760821342468262, 1.1760820150375366, 1.1760820150375366, 1.1760821342468262, 1.1760820150375366, 1.1760820150375366, 1.176081895828247, 1.1760817766189575, 1.176081657409668, 1.1760815382003784, 1.1760814189910889, 1.1760814189910889, 1.1760814189910889, 1.1760812997817993, 1.1760812997817993, 1.6436409950256348, 1.003001093864441, 1.0030012130737305, 1.0030012130737305, 1.003001093864441, 1.0030012130737305, 1.0030012130737305, 1.00300133228302, 1.00300133228302, 1.0030014514923096, 1.0030015707015991, 1.0030015707015991, 1.0030015707015991, 1.0030014514923096, 1.0030015707015991, 1.0030015707015991, 1.0030019283294678, 1.0030020475387573, 1.0030020475387573, 1.0030021667480469, 1.0030020475387573, 1.0030020475387573, 1.0030021667480469, 1.0030021667480469, 1.0030022859573364, 1.003002405166626, 1.5187978744506836, 1.5188013315200806, 1.6436409950256348, 2.0025086402893066, 2.1968982219696045, 1.6424150466918945, 1.0889250040054321, 1.0889250040054321, 1.0889250040054321, 1.0889250040054321, 1.0889250040054321, 1.0889251232147217, 1.0889251232147217, 1.0889250040054321, 1.0889250040054321, 1.0889250040054321, 1.0889250040054321, 1.0889248847961426, 1.0889250040054321, 1.0889250040054321, 1.0889244079589844, 1.088924527168274, 1.0889244079589844, 1.088924527168274, 1.088924527168274, 1.088924527168274, 1.0889240503311157, 1.0889240503311157, 1.0889241695404053, 1.0889240503311157, 1.0889239311218262, 1.0889241695404053, 1.0889239311218262, 1.0889240503311157, 1.0889239311218262, 1.0889239311218262, 2.282970428466797, 1.0889241695404053, 1.0889239311218262, 1.0889240503311157, 1.7295111417770386, 1.729522705078125, 1.0351511240005493, 1.0351511240005493, 1.0351511240005493, 1.0351512432098389, 1.0351511240005493, 1.0351512432098389, 1.0351512432098389, 1.0351512432098389, 1.0351512432098389, 1.0351512432098389, 1.0351512432098389, 1.0351512432098389, 1.0351512432098389, 1.0351512432098389, 1.0351512432098389, 1.0351512432098389, 1.0351513624191284, 1.0351513624191284, 1.0351512432098389, 1.035151481628418, 1.0351512432098389, 1.035151481628418, 1.035151481628418, 1.035151481628418, 2.0025086402893066, 1.5509032011032104, 1.675516128540039, 1.6757299900054932, 2.191397190093994, 5.8784966468811035], \"loglift\": [30.0, 29.0, 28.0, 27.0, 26.0, 25.0, 24.0, 23.0, 22.0, 21.0, 20.0, 19.0, 18.0, 17.0, 16.0, 15.0, 14.0, 13.0, 12.0, 11.0, 10.0, 9.0, 8.0, 7.0, 6.0, 5.0, 4.0, 3.0, 2.0, 1.0, 1.4467999935150146, 1.23989999294281, 1.23989999294281, 1.23989999294281, 1.23989999294281, 1.23989999294281, 1.23989999294281, 1.23989999294281, 1.23989999294281, 1.23989999294281, 1.23989999294281, 1.23989999294281, 1.23989999294281, 1.23989999294281, 1.23989999294281, 1.23989999294281, 1.23989999294281, 1.23989999294281, 1.23989999294281, 1.23989999294281, 1.23989999294281, 1.2395000457763672, 1.239300012588501, 1.239300012588501, 1.239300012588501, 1.1052000522613525, 1.1052000522613525, 0.8720999956130981, 0.871999979019165, 0.8501999974250793, 0.8174999952316284, 0.8173999786376953, 0.504800021648407, 0.9395999908447266, 0.8669999837875366, 0.8669999837875366, 0.7494999766349792, 0.7287999987602234, 0.6956999897956848, 0.6956999897956848, 0.6956999897956848, 0.6956999897956848, 0.6955999732017517, 0.6955999732017517, 0.6955999732017517, 0.6955999732017517, 0.6955999732017517, 0.6955999732017517, 0.6955999732017517, 0.6955999732017517, 0.6955999732017517, 0.6955999732017517, 0.6955999732017517, 0.6955999732017517, 0.6955999732017517, 0.6955999732017517, 0.6955999732017517, 0.6955999732017517, 0.6955999732017517, 0.6955999732017517, 0.6955999732017517, 0.6955999732017517, 0.6955999732017517, 0.36090001463890076, 1.386199951171875, 1.386199951171875, 1.386199951171875, 1.386199951171875, 1.386199951171875, 1.386199951171875, 1.386199951171875, 1.386199951171875, 1.386199951171875, 1.386199951171875, 1.386199951171875, 1.386199951171875, 1.386199951171875, 1.386199951171875, 1.386199951171875, 1.386199951171875, 1.386199951171875, 1.386199951171875, 1.386199951171875, 1.386199951171875, 1.386199951171875, 1.386199951171875, 1.386199951171875, 1.386199951171875, 1.386199951171875, 0.9711999893188477, 0.9710999727249146, 0.892300009727478, 0.6926000118255615, 0.6033999919891357, 1.2731000185012817, 1.0779000520706177, 1.0779000520706177, 1.0779000520706177, 1.0779000520706177, 1.0779000520706177, 1.0779000520706177, 1.0779000520706177, 1.0779000520706177, 1.0779000520706177, 1.0779000520706177, 1.0779000520706177, 1.0779000520706177, 1.0779000520706177, 1.0779000520706177, 1.0779000520706177, 1.0779000520706177, 1.0779000520706177, 1.0779000520706177, 1.0779000520706177, 1.0779000520706177, 1.0779000520706177, 1.0779000520706177, 1.0779000520706177, 1.0779000520706177, 1.0779000520706177, 1.0779000520706177, 1.0779000520706177, 1.0779000520706177, 1.0779000520706177, 1.0779000520706177, 0.9441999793052673, 1.0779000520706177, 1.0779000520706177, 1.0779000520706177, 0.6158000230789185, 0.6155999898910522, 1.3107999563217163, 1.3107999563217163, 1.3107999563217163, 1.3107999563217163, 1.3107999563217163, 1.3107999563217163, 1.3107999563217163, 1.3107999563217163, 1.3107999563217163, 1.3107999563217163, 1.3107999563217163, 1.3107999563217163, 1.3107999563217163, 1.3107999563217163, 1.3107999563217163, 1.3107999563217163, 1.3107999563217163, 1.3107999563217163, 1.3107999563217163, 1.3107999563217163, 1.3107999563217163, 1.3107999563217163, 1.3107999563217163, 1.3107999563217163, 1.2582999467849731, 0.9067000150680542, 0.8307999968528748, 0.8295000195503235, 0.5616000294685364, 0.5548999905586243], \"logprob\": [30.0, 29.0, 28.0, 27.0, 26.0, 25.0, 24.0, 23.0, 22.0, 21.0, 20.0, 19.0, 18.0, 17.0, 16.0, 15.0, 14.0, 13.0, 12.0, 11.0, 10.0, 9.0, 8.0, 7.0, 6.0, 5.0, 4.0, 3.0, 2.0, 1.0, -3.5155999660491943, -4.121799945831299, -4.121799945831299, -4.121799945831299, -4.121799945831299, -4.121799945831299, -4.121799945831299, -4.121799945831299, -4.121799945831299, -4.121799945831299, -4.121799945831299, -4.121799945831299, -4.121799945831299, -4.121799945831299, -4.121799945831299, -4.121799945831299, -4.121799945831299, -4.121799945831299, -4.121799945831299, -4.121799945831299, -4.121799945831299, -4.122200012207031, -4.122399806976318, -4.122499942779541, -4.122499942779541, -3.5146000385284424, -3.5146000385284424, -4.121600151062012, -4.121699810028076, -4.122600078582764, -4.121200084686279, -4.121300220489502, -4.122300148010254, -3.572999954223633, -3.947700023651123, -3.947700023651123, -3.572499990463257, -2.9114999771118164, -4.553800106048584, -4.553800106048584, -4.553800106048584, -4.553800106048584, -4.553800106048584, -4.553800106048584, -4.553800106048584, -4.553800106048584, -4.553800106048584, -4.553800106048584, -4.553800106048584, -4.553800106048584, -4.553800106048584, -4.553800106048584, -4.553800106048584, -4.553800106048584, -4.553800106048584, -4.553800106048584, -4.553800106048584, -4.553800106048584, -4.553800106048584, -4.553800106048584, -4.553800106048584, -4.553800106048584, -4.553800106048584, -4.553800106048584, -4.02239990234375, -4.022500038146973, -4.022500038146973, -4.022500038146973, -4.022500038146973, -4.022500038146973, -4.022500038146973, -4.022500038146973, -4.022500038146973, -4.022500038146973, -4.022500038146973, -4.022500038146973, -4.022500038146973, -4.022500038146973, -4.022500038146973, -4.022500038146973, -4.022500038146973, -4.022500038146973, -4.022500038146973, -4.022500038146973, -4.022500038146973, -4.022500038146973, -4.022500038146973, -4.022500038146973, -4.022500038146973, -4.022500038146973, -4.022600173950195, -4.022500038146973, -4.024700164794922, -4.021200180053711, -3.642400026321411, -4.248499870300293, -4.248499870300293, -4.248499870300293, -4.248499870300293, -4.248499870300293, -4.248499870300293, -4.248499870300293, -4.248499870300293, -4.248499870300293, -4.248499870300293, -4.248499870300293, -4.248499870300293, -4.248499870300293, -4.248499870300293, -4.248499870300293, -4.248499870300293, -4.248499870300293, -4.248499870300293, -4.248499870300293, -4.248499870300293, -4.248499870300293, -4.248499870300293, -4.248499870300293, -4.248499870300293, -4.248499870300293, -4.248499870300293, -4.248499870300293, -4.248499870300293, -4.248499870300293, -4.248499870300293, -3.641900062561035, -4.248499870300293, -4.248499870300293, -4.248499870300293, -4.248000144958496, -4.248199939727783, -4.066299915313721, -4.066299915313721, -4.066299915313721, -4.066299915313721, -4.066299915313721, -4.066299915313721, -4.066299915313721, -4.066299915313721, -4.066299915313721, -4.066299915313721, -4.066299915313721, -4.066299915313721, -4.066299915313721, -4.066299915313721, -4.066299915313721, -4.066299915313721, -4.066299915313721, -4.066299915313721, -4.066299915313721, -4.066299915313721, -4.066299915313721, -4.066299915313721, -4.066299915313721, -4.066299915313721, -3.458899974822998, -4.066100120544434, -4.064700126647949, -4.065899848937988, -4.065499782562256, -3.0855000019073486]}, \"token.table\": {\"Topic\": [1, 1, 4, 1, 3, 5, 2, 1, 4, 1, 1, 3, 3, 2, 5, 1, 1, 1, 3, 1, 2, 3, 4, 4, 4, 3, 1, 5, 2, 3, 2, 3, 2, 4, 3, 2, 5, 2, 3, 1, 4, 2, 3, 4, 4, 1, 4, 5, 2, 4, 1, 2, 1, 3, 1, 2, 5, 4, 4, 5, 1, 2, 1, 4, 2, 5, 1, 2, 3, 1, 2, 3, 5, 1, 3, 2, 2, 2, 5, 4, 4, 1, 5, 3, 3, 1, 4, 5, 2, 4, 5, 5, 1, 5, 5, 3, 4, 3, 5, 4, 4, 1, 4, 2, 5, 2, 4, 2, 4, 1, 5, 5, 4, 1, 4, 2, 3, 4, 3, 4, 3, 2, 4, 4, 2, 4, 2, 5, 1, 2, 5, 2, 3, 4, 2, 4, 2, 4, 3, 1, 5, 3, 1, 5, 3, 4, 5, 2, 3, 2, 1, 2, 1, 2, 5, 2, 4, 2, 3, 5, 2, 5, 4, 1, 5, 2, 5, 4, 3, 2, 3, 4, 1, 4], \"Freq\": [0.9512608051300049, 0.9512608051300049, 0.9183368682861328, 0.9512609243392944, 0.997007429599762, 0.966042160987854, 0.8502813577651978, 0.951261043548584, 0.918336808681488, 0.9512608051300049, 0.6584139466285706, 0.6584139466285706, 0.9970079064369202, 0.8502812385559082, 0.9660425186157227, 0.9512608051300049, 0.9512607455253601, 0.6584154367446899, 0.6584154367446899, 0.336317241191864, 0.672634482383728, 0.9970069527626038, 0.9183375835418701, 0.9183368682861328, 0.9183375835418701, 0.9970077872276306, 0.951296865940094, 0.9660423994064331, 0.8502798080444336, 0.997007429599762, 0.8502796292304993, 0.9970079064369202, 0.5781942009925842, 0.5781942009925842, 0.9970077872276306, 0.8502810001373291, 0.9660425186157227, 0.8502806425094604, 0.9970068335533142, 0.6231715083122253, 0.6231715083122253, 0.8502808213233948, 0.9970068335533142, 0.9183368682861328, 0.9183368682861328, 0.9512609243392944, 0.9183374047279358, 0.966042160987854, 0.5504368543624878, 0.9183372855186462, 0.45302364230155945, 0.45302364230155945, 0.951261043548584, 0.9970070719718933, 0.456329882144928, 0.456329882144928, 0.456329882144928, 0.9183372855186462, 0.9183377027511597, 0.9660423994064331, 0.9512607455253601, 0.85028076171875, 0.6231727600097656, 0.6231727600097656, 0.8502808213233948, 0.9660423994064331, 0.9512966275215149, 0.8502805829048157, 0.9970069527626038, 0.9512611627578735, 0.8502811789512634, 0.4993736147880554, 0.4993736147880554, 0.9512609243392944, 0.997007429599762, 0.8502812385559082, 0.8502806425094604, 0.5968310236930847, 0.5968310236930847, 0.9183368682861328, 0.9183368682861328, 0.9512609243392944, 0.966042160987854, 0.9970077872276306, 0.997007429599762, 0.951261043548584, 0.9183377027511597, 0.9660423994064331, 0.5504367351531982, 0.9183377027511597, 0.9660423994064331, 0.9660422801971436, 0.9512608051300049, 0.9660423994064331, 0.9660422801971436, 0.9970065951347351, 0.918336808681488, 0.9970069527626038, 0.9660423994064331, 0.9183374047279358, 0.9183377027511597, 0.6381472945213318, 0.9183368682861328, 0.850279688835144, 0.9660423994064331, 0.4380258321762085, 0.4380258321762085, 0.5781980752944946, 0.5781980752944946, 0.951261043548584, 0.9660423994064331, 0.966042160987854, 0.9183368682861328, 0.9512609243392944, 0.9183375835418701, 0.8502808213233948, 0.9970068335533142, 0.9183378219604492, 0.9970077872276306, 0.9183378219604492, 0.9970067143440247, 0.8502811193466187, 0.9183368682861328, 0.6088594794273376, 0.8502812385559082, 0.9183372855186462, 0.5967548489570618, 0.5967548489570618, 0.9512608051300049, 0.8502809405326843, 0.9660425186157227, 0.45518723130226135, 0.45518723130226135, 0.45518723130226135, 0.8502808213233948, 0.9183378219604492, 0.8502805829048157, 0.9183378219604492, 0.9970069527626038, 0.6447855830192566, 0.6447855830192566, 0.9970076680183411, 0.9512611627578735, 0.9660423994064331, 0.997007429599762, 0.9183378219604492, 0.9660423994064331, 0.608405351638794, 0.608405351638794, 0.8502808213233948, 0.4530237019062042, 0.4530237019062042, 0.9512842297554016, 0.8138698935508728, 0.9660425186157227, 0.85028076171875, 0.9183368682861328, 0.8502808213233948, 0.9970076680183411, 0.9660423994064331, 0.6804460883140564, 0.3402230441570282, 0.9183368682861328, 0.9512943625450134, 0.9660423994064331, 0.8502796292304993, 0.9660423994064331, 0.9183372855186462, 0.9970075488090515, 0.8502813577651978, 0.9970075488090515, 0.9183369874954224, 0.9512608051300049, 0.9183377027511597], \"Term\": [\"100-db\", \"24.4-khz\", \"931;&#916\", \"adaptation\", \"adaptive\", \"advertising\", \"algorithm\", \"analog\", \"analysis\", \"animation\", \"application\", \"application\", \"approach\", \"arithmetic\", \"array\", \"balancing\", \"bandpass\", \"bandwidth\", \"bandwidth\", \"base\", \"base\", \"behavior\", \"blind\", \"blocking\", \"browsing\", \"building\", \"circuit\", \"classification\", \"cloud\", \"coding\", \"cognitive\", \"community\", \"comparative\", \"comparative\", \"compositional\", \"computationally\", \"concurrent\", \"consequence\", \"constraint\", \"control\", \"control\", \"converter\", \"costs\", \"crosstalk\", \"current\", \"cycle\", \"database\", \"datacasting\", \"decoding\", \"deductive\", \"delta\", \"delta\", \"denoising\", \"dependent\", \"design\", \"design\", \"design\", \"deterministic\", \"diagonalization\", \"disposable\", \"distortion\", \"division\", \"dynamic\", \"dynamic\", \"efficient\", \"environment\", \"error\", \"evaluation\", \"exploit\", \"exploration\", \"fix\", \"flexible\", \"flexible\", \"fourth\", \"framework\", \"generation\", \"human\", \"image\", \"image\", \"impact\", \"impair\", \"implementation\", \"improve\", \"incremental\", \"information\", \"instrument\", \"interactive\", \"interlingual\", \"iterative\", \"joint\", \"level\", \"leveraging\", \"limit\", \"mapping\", \"marketplace\", \"method\", \"mismatch\", \"model\", \"modeling\", \"modelling\", \"modular\", \"modulator\", \"modulators\", \"multi\", \"multiple\", \"network\", \"network\", \"noise\", \"noise\", \"observatory\", \"operate\", \"opportunity\", \"optical\", \"order\", \"page\", \"parallel\", \"performance\", \"phase\", \"portal\", \"precomputational\", \"prediction\", \"probabilistic\", \"probability\", \"processing\", \"quaternary\", \"query\", \"radio\", \"radio\", \"range\", \"recommender\", \"reconfigurable\", \"reduction\", \"reduction\", \"reduction\", \"refine\", \"reordering\", \"reputation\", \"resource\", \"route\", \"scalable\", \"scalable\", \"scheme\", \"science\", \"search\", \"semantic\", \"sensitive\", \"sensor\", \"session\", \"session\", \"shape\", \"sigma\", \"sigma\", \"solution\", \"spectrum\", \"standard\", \"status\", \"steering\", \"storage\", \"structure\", \"support\", \"system\", \"system\", \"threshold\", \"tolerant\", \"towards\", \"trading\", \"transparent\", \"update\", \"using\", \"variable\", \"video\", \"voltage\", \"walking\", \"without\"]}, \"R\": 30, \"lambda.step\": 0.01, \"plot.opts\": {\"xlab\": \"PC1\", \"ylab\": \"PC2\"}, \"topic.order\": [1, 2, 3, 4, 5]};\n",
       "\n",
       "function LDAvis_load_lib(url, callback){\n",
       "  var s = document.createElement('script');\n",
       "  s.src = url;\n",
       "  s.async = true;\n",
       "  s.onreadystatechange = s.onload = callback;\n",
       "  s.onerror = function(){console.warn(\"failed to load library \" + url);};\n",
       "  document.getElementsByTagName(\"head\")[0].appendChild(s);\n",
       "}\n",
       "\n",
       "if(typeof(LDAvis) !== \"undefined\"){\n",
       "   // already loaded: just create the visualization\n",
       "   !function(LDAvis){\n",
       "       new LDAvis(\"#\" + \"ldavis_el559221464914043604389938917\", ldavis_el559221464914043604389938917_data);\n",
       "   }(LDAvis);\n",
       "}else if(typeof define === \"function\" && define.amd){\n",
       "   // require.js is available: use it to load d3/LDAvis\n",
       "   require.config({paths: {d3: \"https://cdnjs.cloudflare.com/ajax/libs/d3/3.5.5/d3.min\"}});\n",
       "   require([\"d3\"], function(d3){\n",
       "      window.d3 = d3;\n",
       "      LDAvis_load_lib(\"https://cdn.rawgit.com/bmabey/pyLDAvis/files/ldavis.v1.0.0.js\", function(){\n",
       "        new LDAvis(\"#\" + \"ldavis_el559221464914043604389938917\", ldavis_el559221464914043604389938917_data);\n",
       "      });\n",
       "    });\n",
       "}else{\n",
       "    // require.js not available: dynamically load d3 & LDAvis\n",
       "    LDAvis_load_lib(\"https://cdnjs.cloudflare.com/ajax/libs/d3/3.5.5/d3.min.js\", function(){\n",
       "         LDAvis_load_lib(\"https://cdn.rawgit.com/bmabey/pyLDAvis/files/ldavis.v1.0.0.js\", function(){\n",
       "                 new LDAvis(\"#\" + \"ldavis_el559221464914043604389938917\", ldavis_el559221464914043604389938917_data);\n",
       "            })\n",
       "         });\n",
       "}\n",
       "</script>"
      ],
      "text/plain": [
       "<IPython.core.display.HTML object>"
      ]
     },
     "execution_count": 35,
     "metadata": {},
     "output_type": "execute_result"
    }
   ],
   "source": [
    "import pyLDAvis.gensim\n",
    "lda_display = pyLDAvis.gensim.prepare(lda, corpus, dictionary, sort_topics=False)\n",
    "pyLDAvis.display(lda_display)"
   ]
  },
  {
   "cell_type": "code",
   "execution_count": 36,
   "metadata": {},
   "outputs": [
    {
     "name": "stderr",
     "output_type": "stream",
     "text": [
      "C:\\ProgramData\\Anaconda3\\lib\\site-packages\\pyLDAvis\\_prepare.py:257: FutureWarning: Sorting because non-concatenation axis is not aligned. A future version\n",
      "of pandas will change to not sort by default.\n",
      "\n",
      "To accept the future behavior, pass 'sort=False'.\n",
      "\n",
      "To retain the current behavior and silence the warning, pass 'sort=True'.\n",
      "\n",
      "  return pd.concat([default_term_info] + list(topic_dfs))\n"
     ]
    },
    {
     "data": {
      "text/html": [
       "\n",
       "<link rel=\"stylesheet\" type=\"text/css\" href=\"https://cdn.rawgit.com/bmabey/pyLDAvis/files/ldavis.v1.0.0.css\">\n",
       "\n",
       "\n",
       "<div id=\"ldavis_el559221464891756249537307717\"></div>\n",
       "<script type=\"text/javascript\">\n",
       "\n",
       "var ldavis_el559221464891756249537307717_data = {\"mdsDat\": {\"x\": [0.04938177097697358, -0.09517321093667126, 0.045791439959697706], \"y\": [0.07777397256610664, 0.001980881761954189, -0.07975485432806081], \"topics\": [1, 2, 3], \"cluster\": [1, 1, 1], \"Freq\": [43.16838073730469, 25.97309684753418, 30.8585262298584]}, \"tinfo\": {\"Category\": [\"Default\", \"Default\", \"Default\", \"Default\", \"Default\", \"Default\", \"Default\", \"Default\", \"Default\", \"Default\", \"Default\", \"Default\", \"Default\", \"Default\", \"Default\", \"Default\", \"Default\", \"Default\", \"Default\", \"Default\", \"Default\", \"Default\", \"Default\", \"Default\", \"Default\", \"Default\", \"Default\", \"Default\", \"Default\", \"Default\", \"Topic1\", \"Topic1\", \"Topic1\", \"Topic1\", \"Topic1\", \"Topic1\", \"Topic1\", \"Topic1\", \"Topic1\", \"Topic1\", \"Topic1\", \"Topic1\", \"Topic1\", \"Topic1\", \"Topic1\", \"Topic1\", \"Topic1\", \"Topic1\", \"Topic1\", \"Topic1\", \"Topic1\", \"Topic1\", \"Topic1\", \"Topic1\", \"Topic1\", \"Topic1\", \"Topic1\", \"Topic1\", \"Topic1\", \"Topic1\", \"Topic1\", \"Topic1\", \"Topic1\", \"Topic1\", \"Topic1\", \"Topic1\", \"Topic1\", \"Topic2\", \"Topic2\", \"Topic2\", \"Topic2\", \"Topic2\", \"Topic2\", \"Topic2\", \"Topic2\", \"Topic2\", \"Topic2\", \"Topic2\", \"Topic2\", \"Topic2\", \"Topic2\", \"Topic2\", \"Topic2\", \"Topic2\", \"Topic2\", \"Topic2\", \"Topic2\", \"Topic2\", \"Topic2\", \"Topic2\", \"Topic2\", \"Topic2\", \"Topic2\", \"Topic2\", \"Topic2\", \"Topic2\", \"Topic2\", \"Topic2\", \"Topic2\", \"Topic2\", \"Topic2\", \"Topic3\", \"Topic3\", \"Topic3\", \"Topic3\", \"Topic3\", \"Topic3\", \"Topic3\", \"Topic3\", \"Topic3\", \"Topic3\", \"Topic3\", \"Topic3\", \"Topic3\", \"Topic3\", \"Topic3\", \"Topic3\", \"Topic3\", \"Topic3\", \"Topic3\", \"Topic3\", \"Topic3\", \"Topic3\", \"Topic3\", \"Topic3\", \"Topic3\", \"Topic3\", \"Topic3\", \"Topic3\", \"Topic3\", \"Topic3\", \"Topic3\", \"Topic3\", \"Topic3\", \"Topic3\", \"Topic3\", \"Topic3\", \"Topic3\", \"Topic3\"], \"Freq\": [5.0, 2.0, 2.0, 2.0, 1.0, 1.0, 1.0, 1.0, 1.0, 1.0, 1.0, 1.0, 1.0, 1.0, 1.0, 1.0, 1.0, 1.0, 1.0, 1.0, 1.0, 1.0, 1.0, 1.0, 1.0, 1.0, 1.0, 1.0, 1.0, 1.0, 1.9950459003448486, 1.396354079246521, 1.3962513208389282, 1.3962219953536987, 1.3962066173553467, 1.396118402481079, 1.3960415124893188, 0.7977634072303772, 0.797762930393219, 0.7977626919746399, 0.7977557182312012, 0.7977197170257568, 0.7977145910263062, 0.7977060079574585, 0.7976641654968262, 0.7976633310317993, 0.7976630926132202, 0.7976602911949158, 0.79765784740448, 0.7976555824279785, 0.7976421117782593, 0.7976418137550354, 0.7976409196853638, 0.7976402640342712, 0.7976387739181519, 0.7976366877555847, 0.7976354360580444, 0.7976347804069519, 0.7976241707801819, 0.7976083159446716, 1.3966567516326904, 1.4003465175628662, 1.4003363847732544, 1.3979417085647583, 1.4018220901489258, 1.3587872982025146, 0.8005386590957642, 3.652827262878418, 0.658266544342041, 0.6582618951797485, 0.6582608819007874, 0.6582592129707336, 0.6582567691802979, 0.6582533121109009, 0.6582500338554382, 0.6582152843475342, 0.6582141518592834, 0.6582095623016357, 0.6582089066505432, 0.6581896543502808, 0.6581869721412659, 0.6581825017929077, 0.6581789255142212, 0.6581770181655884, 0.6581764221191406, 0.6581763029098511, 0.6581697463989258, 0.6581154465675354, 0.6581142544746399, 0.6581128239631653, 0.6581115126609802, 0.6581104397773743, 0.6581096053123474, 0.6581096053123474, 0.6581094264984131, 0.6581090092658997, 0.6581082940101624, 1.1642282009124756, 0.6610590815544128, 0.6583909392356873, 0.6582849025726318, 0.7104558348655701, 0.7104554772377014, 0.7104513049125671, 0.7104506492614746, 0.7104476094245911, 0.7104461789131165, 0.7104445695877075, 0.7104253172874451, 0.7104237079620361, 0.710420548915863, 0.7104200720787048, 0.7104198932647705, 0.7104195356369019, 0.7104155421257019, 0.710414707660675, 0.7103803753852844, 0.7103797197341919, 0.7103786468505859, 0.7103780508041382, 0.7103744745254517, 0.7103717923164368, 0.710369884967804, 0.7103708386421204, 0.7103680372238159, 0.7103652954101562, 0.7103650569915771, 0.7103433609008789, 0.7103275656700134, 0.7103224992752075, 0.7103146314620972, 1.251379132270813, 0.7132514119148254, 0.7119801640510559, 0.7115421891212463, 0.7115369439125061, 0.711524248123169, 0.7109394073486328, 0.7104888558387756], \"Term\": [\"system\", \"reduction\", \"spectrum\", \"flexible\", \"noise\", \"status\", \"shape\", \"consequence\", \"evaluation\", \"reputation\", \"human\", \"recommender\", \"operate\", \"environment\", \"modeling\", \"level\", \"variable\", \"identification\", \"database\", \"update\", \"deterministic\", \"modelling\", \"query\", \"deductive\", \"opportunity\", \"encoding\", \"phase\", \"h.264\", \"without\", \"modular\", \"spectrum\", \"modulator\", \"scalable\", \"dynamic\", \"control\", \"bandwidth\", \"image\", \"multi\", \"trading\", \"cognitive\", \"cloud\", \"24.4-khz\", \"100-db\", \"range\", \"quaternary\", \"generation\", \"fix\", \"polarity\", \"algorithm\", \"arithmetic\", \"order\", \"bandpass\", \"limit\", \"walking\", \"fourth\", \"animation\", \"cycle\", \"distortion\", \"balancing\", \"transparent\", \"design\", \"sigma\", \"delta\", \"network\", \"base\", \"system\", \"session\", \"system\", \"status\", \"shape\", \"consequence\", \"evaluation\", \"reputation\", \"human\", \"recommender\", \"operate\", \"environment\", \"modeling\", \"level\", \"variable\", \"identification\", \"database\", \"update\", \"deterministic\", \"modelling\", \"query\", \"deductive\", \"opportunity\", \"encoding\", \"phase\", \"h.264\", \"without\", \"modular\", \"reduce\", \"datacasting\", \"selection\", \"complexity\", \"reduction\", \"base\", \"noise\", \"design\", \"mapping\", \"standard\", \"concurrent\", \"multiple\", \"reconfigurable\", \"support\", \"array\", \"mismatch\", \"steering\", \"threshold\", \"current\", \"impact\", \"modulators\", \"931;&#916\", \"voltage\", \"building\", \"approach\", \"portal\", \"community\", \"incremental\", \"compositional\", \"structure\", \"division\", \"converter\", \"parallel\", \"probabilistic\", \"optical\", \"analysis\", \"probability\", \"blocking\", \"flexible\", \"processing\", \"comparative\", \"radio\", \"iterative\", \"decoding\", \"application\", \"noise\"], \"Total\": [5.0, 2.0, 2.0, 2.0, 1.0, 1.0, 1.0, 1.0, 1.0, 1.0, 1.0, 1.0, 1.0, 1.0, 1.0, 1.0, 1.0, 1.0, 1.0, 1.0, 1.0, 1.0, 1.0, 1.0, 1.0, 1.0, 1.0, 1.0, 1.0, 1.0, 2.337764263153076, 1.7391009330749512, 1.7390856742858887, 1.7390819787979126, 1.739079475402832, 1.7390685081481934, 1.7390551567077637, 1.1404495239257812, 1.1404496431350708, 1.1404496431350708, 1.1404485702514648, 1.1404445171356201, 1.1404438018798828, 1.140442132949829, 1.1404356956481934, 1.1404355764389038, 1.1404356956481934, 1.1404350996017456, 1.1404348611831665, 1.1404345035552979, 1.1404331922531128, 1.1404331922531128, 1.1404331922531128, 1.1404330730438232, 1.140432596206665, 1.140432357788086, 1.140432357788086, 1.1404321193695068, 1.1404304504394531, 1.1404294967651367, 2.2330479621887207, 2.272568702697754, 2.272568702697754, 2.2723021507263184, 2.7664384841918945, 5.18975305557251, 1.6737697124481201, 5.18975305557251, 1.0357810258865356, 1.035781741142273, 1.0357818603515625, 1.0357823371887207, 1.0357823371887207, 1.035783290863037, 1.0357834100723267, 1.0357890129089355, 1.035789132118225, 1.0357900857925415, 1.0357900857925415, 1.0357916355133057, 1.0357924699783325, 1.0357921123504639, 1.0357930660247803, 1.0357933044433594, 1.0357930660247803, 1.0357929468154907, 1.0357940196990967, 1.035801887512207, 1.0358015298843384, 1.035801887512207, 1.0358020067214966, 1.0358023643493652, 1.0358022451400757, 1.0358023643493652, 1.0358027219772339, 1.0358024835586548, 1.0358026027679443, 2.12569522857666, 2.7664384841918945, 1.5688467025756836, 2.2330479621887207, 1.0749154090881348, 1.074915885925293, 1.0749160051345825, 1.074915885925293, 1.0749162435531616, 1.074915885925293, 1.0749163627624512, 1.0749155282974243, 1.0749156475067139, 1.0749157667160034, 1.0749151706695557, 1.0749154090881348, 1.0749155282974243, 1.0749154090881348, 1.0749157667160034, 1.0749156475067139, 1.0749152898788452, 1.0749156475067139, 1.0749152898788452, 1.074915885925293, 1.0749160051345825, 1.0749150514602661, 1.0749220848083496, 1.0749218463897705, 1.0749218463897705, 1.0749225616455078, 1.0749229192733765, 1.0749244689941406, 1.0749255418777466, 1.0749263763427734, 2.205575466156006, 1.6731178760528564, 1.6732046604156494, 1.6733863353729248, 1.673356056213379, 1.6733571290969849, 1.6734260320663452, 1.5688467025756836], \"loglift\": [30.0, 29.0, 28.0, 27.0, 26.0, 25.0, 24.0, 23.0, 22.0, 21.0, 20.0, 19.0, 18.0, 17.0, 16.0, 15.0, 14.0, 13.0, 12.0, 11.0, 10.0, 9.0, 8.0, 7.0, 6.0, 5.0, 4.0, 3.0, 2.0, 1.0, 0.6815000176429749, 0.6205999851226807, 0.6205000281333923, 0.6205000281333923, 0.6205000281333923, 0.6204000115394592, 0.6204000115394592, 0.482699990272522, 0.482699990272522, 0.482699990272522, 0.482699990272522, 0.48260000348091125, 0.48260000348091125, 0.48260000348091125, 0.48260000348091125, 0.48260000348091125, 0.48260000348091125, 0.48260000348091125, 0.48260000348091125, 0.48260000348091125, 0.48260000348091125, 0.48260000348091125, 0.48260000348091125, 0.48260000348091125, 0.48260000348091125, 0.48260000348091125, 0.48260000348091125, 0.48260000348091125, 0.48249998688697815, 0.48249998688697815, 0.3707999885082245, 0.35589998960494995, 0.35589998960494995, 0.35429999232292175, 0.16030000150203705, -0.5, 0.10249999910593033, 0.9969000220298767, 0.8948000073432922, 0.8948000073432922, 0.8948000073432922, 0.8948000073432922, 0.8948000073432922, 0.8948000073432922, 0.8948000073432922, 0.8946999907493591, 0.8946999907493591, 0.8946999907493591, 0.8946999907493591, 0.8946999907493591, 0.8946999907493591, 0.8946999907493591, 0.8946999907493591, 0.8946999907493591, 0.8946999907493591, 0.8946999907493591, 0.894599974155426, 0.894599974155426, 0.894599974155426, 0.894599974155426, 0.894599974155426, 0.894599974155426, 0.8945000171661377, 0.8945000171661377, 0.8945000171661377, 0.8945000171661377, 0.8945000171661377, 0.7461000084877014, -0.08340000361204147, 0.4797999858856201, 0.1265999972820282, 0.7616999745368958, 0.7616999745368958, 0.7616999745368958, 0.7616999745368958, 0.7616999745368958, 0.7616999745368958, 0.7616000175476074, 0.7616000175476074, 0.7616000175476074, 0.7616000175476074, 0.7616000175476074, 0.7616000175476074, 0.7616000175476074, 0.7616000175476074, 0.7616000175476074, 0.7616000175476074, 0.7616000175476074, 0.7616000175476074, 0.7616000175476074, 0.7616000175476074, 0.7615000009536743, 0.7615000009536743, 0.7615000009536743, 0.7615000009536743, 0.7615000009536743, 0.7615000009536743, 0.7615000009536743, 0.7615000009536743, 0.7615000009536743, 0.7615000009536743, 0.609000027179718, 0.3231000006198883, 0.3212999999523163, 0.3206000030040741, 0.3206000030040741, 0.3206000030040741, 0.3197000026702881, 0.38359999656677246], \"logprob\": [30.0, 29.0, 28.0, 27.0, 26.0, 25.0, 24.0, 23.0, 22.0, 21.0, 20.0, 19.0, 18.0, 17.0, 16.0, 15.0, 14.0, 13.0, 12.0, 11.0, 10.0, 9.0, 8.0, 7.0, 6.0, 5.0, 4.0, 3.0, 2.0, 1.0, -3.8808999061584473, -4.23769998550415, -4.237800121307373, -4.237800121307373, -4.237800121307373, -4.2378997802734375, -4.2378997802734375, -4.797500133514404, -4.797500133514404, -4.797500133514404, -4.797500133514404, -4.797599792480469, -4.797599792480469, -4.797599792480469, -4.797699928283691, -4.797699928283691, -4.797699928283691, -4.797699928283691, -4.797699928283691, -4.797699928283691, -4.797699928283691, -4.797699928283691, -4.797699928283691, -4.797699928283691, -4.797699928283691, -4.797699928283691, -4.797699928283691, -4.797699928283691, -4.797699928283691, -4.797699928283691, -4.237500190734863, -4.234899997711182, -4.234899997711182, -4.236599922180176, -4.233799934387207, -4.264999866485596, -4.794099807739258, -2.7679998874664307, -4.4816999435424805, -4.4816999435424805, -4.4816999435424805, -4.4816999435424805, -4.4816999435424805, -4.4816999435424805, -4.4816999435424805, -4.481800079345703, -4.481800079345703, -4.481800079345703, -4.481800079345703, -4.481800079345703, -4.481800079345703, -4.481800079345703, -4.481800079345703, -4.481800079345703, -4.481800079345703, -4.481800079345703, -4.481800079345703, -4.481900215148926, -4.481900215148926, -4.481900215148926, -4.481900215148926, -4.481900215148926, -4.481900215148926, -4.481900215148926, -4.481900215148926, -4.481900215148926, -4.481900215148926, -3.9114999771118164, -4.477399826049805, -4.481500148773193, -4.4816999435424805, -4.577700138092041, -4.577700138092041, -4.577700138092041, -4.577700138092041, -4.577700138092041, -4.5777997970581055, -4.5777997970581055, -4.5777997970581055, -4.5777997970581055, -4.5777997970581055, -4.5777997970581055, -4.5777997970581055, -4.5777997970581055, -4.5777997970581055, -4.5777997970581055, -4.5777997970581055, -4.5777997970581055, -4.5777997970581055, -4.5777997970581055, -4.577899932861328, -4.577899932861328, -4.577899932861328, -4.577899932861328, -4.577899932861328, -4.577899932861328, -4.577899932861328, -4.577899932861328, -4.577899932861328, -4.577899932861328, -4.577899932861328, -4.011600017547607, -4.573800086975098, -4.5756001472473145, -4.576200008392334, -4.576200008392334, -4.576200008392334, -4.577099800109863, -4.577700138092041]}, \"token.table\": {\"Topic\": [1, 1, 3, 1, 3, 1, 1, 3, 3, 1, 3, 1, 1, 1, 1, 2, 3, 3, 3, 1, 1, 3, 1, 3, 2, 3, 3, 2, 1, 3, 3, 1, 2, 2, 1, 3, 2, 1, 3, 1, 2, 2, 1, 3, 1, 2, 2, 2, 1, 1, 3, 1, 1, 2, 2, 2, 1, 3, 3, 1, 3, 2, 1, 3, 3, 2, 2, 2, 1, 3, 1, 3, 1, 3, 2, 3, 2, 2, 3, 1, 3, 2, 1, 3, 3, 3, 1, 3, 1, 2, 1, 3, 1, 2, 3, 2, 1, 2, 2, 1, 2, 1, 3, 2, 1, 3, 1, 3, 2, 3, 3, 3, 1, 2, 3, 1, 1, 2, 2, 3, 1, 2], \"Freq\": [0.8768516182899475, 0.8768510818481445, 0.9303057789802551, 0.8768584728240967, 0.9302979111671448, 0.8768604397773743, 0.5975764393806458, 0.5975764393806458, 0.9303058385848999, 0.8768587708473206, 0.9303049445152283, 0.8768618702888489, 0.8768597841262817, 0.5750204920768738, 0.3614755868911743, 0.3614755868911743, 0.3614755868911743, 0.9302962422370911, 0.930305540561676, 0.8768479824066162, 0.8768471479415894, 0.9303058385848999, 0.5976555347442627, 0.5976555347442627, 0.9654349088668823, 0.9303052425384521, 0.9303052425384521, 0.9654542803764343, 0.5750168561935425, 0.9303001761436462, 0.9303059577941895, 0.8768604397773743, 0.9654446840286255, 0.9654347896575928, 0.597601056098938, 0.597601056098938, 0.9654428958892822, 0.44003069400787354, 0.44003069400787354, 0.44781842827796936, 0.44781842827796936, 0.9654436111450195, 0.8768606185913086, 0.9302999973297119, 0.5750160217285156, 0.9654359221458435, 0.9654474854469299, 0.9654538035392761, 0.8768578767776489, 0.45339640974998474, 0.45339640974998474, 0.8768602609634399, 0.8768579363822937, 0.9654354453086853, 0.9654529094696045, 0.9654443860054016, 0.5750249028205872, 0.9303057789802551, 0.9303053617477417, 0.5976014733314514, 0.5976014733314514, 0.9654465913772583, 0.8768597841262817, 0.9303057789802551, 0.9303056597709656, 0.9654465913772583, 0.9654437899589539, 0.965435266494751, 0.5750097632408142, 0.9303056597709656, 0.8768472075462341, 0.9303053617477417, 0.440082311630249, 0.440082311630249, 0.6374108791351318, 0.6374108791351318, 0.9654476046562195, 0.9654355645179749, 0.9302992820739746, 0.8768597841262817, 0.9303001761436462, 0.9654355645179749, 0.8768582940101624, 0.930305540561676, 0.9302995800971985, 0.9302970170974731, 0.5976865291595459, 0.5976865291595459, 0.8768578767776489, 0.9654439091682434, 0.5975906252861023, 0.5975906252861023, 0.8768529295921326, 0.9654527902603149, 0.9303050637245178, 0.9654351472854614, 0.4704343378543854, 0.4704343378543854, 0.9654538035392761, 0.5750147700309753, 0.9654350280761719, 0.597453773021698, 0.597453773021698, 0.9654543399810791, 0.44003069400787354, 0.44003069400787354, 0.8555182814598083, 0.9303053617477417, 0.9654550552368164, 0.930305540561676, 0.930306077003479, 0.9303053617477417, 0.19268739223480225, 0.770749568939209, 0.9303054809570312, 0.8768471479415894, 0.876862645149231, 0.9654437899589539, 0.9654451608657837, 0.9303054809570312, 0.8768598437309265, 0.9654351472854614], \"Term\": [\"100-db\", \"24.4-khz\", \"931;&#916\", \"algorithm\", \"analysis\", \"animation\", \"application\", \"application\", \"approach\", \"arithmetic\", \"array\", \"balancing\", \"bandpass\", \"bandwidth\", \"base\", \"base\", \"base\", \"blocking\", \"building\", \"cloud\", \"cognitive\", \"community\", \"comparative\", \"comparative\", \"complexity\", \"compositional\", \"concurrent\", \"consequence\", \"control\", \"converter\", \"current\", \"cycle\", \"database\", \"datacasting\", \"decoding\", \"decoding\", \"deductive\", \"delta\", \"delta\", \"design\", \"design\", \"deterministic\", \"distortion\", \"division\", \"dynamic\", \"encoding\", \"environment\", \"evaluation\", \"fix\", \"flexible\", \"flexible\", \"fourth\", \"generation\", \"h.264\", \"human\", \"identification\", \"image\", \"impact\", \"incremental\", \"iterative\", \"iterative\", \"level\", \"limit\", \"mapping\", \"mismatch\", \"modeling\", \"modelling\", \"modular\", \"modulator\", \"modulators\", \"multi\", \"multiple\", \"network\", \"network\", \"noise\", \"noise\", \"operate\", \"opportunity\", \"optical\", \"order\", \"parallel\", \"phase\", \"polarity\", \"portal\", \"probabilistic\", \"probability\", \"processing\", \"processing\", \"quaternary\", \"query\", \"radio\", \"radio\", \"range\", \"recommender\", \"reconfigurable\", \"reduce\", \"reduction\", \"reduction\", \"reputation\", \"scalable\", \"selection\", \"session\", \"session\", \"shape\", \"sigma\", \"sigma\", \"spectrum\", \"standard\", \"status\", \"steering\", \"structure\", \"support\", \"system\", \"system\", \"threshold\", \"trading\", \"transparent\", \"update\", \"variable\", \"voltage\", \"walking\", \"without\"]}, \"R\": 30, \"lambda.step\": 0.01, \"plot.opts\": {\"xlab\": \"PC1\", \"ylab\": \"PC2\"}, \"topic.order\": [1, 2, 3]};\n",
       "\n",
       "function LDAvis_load_lib(url, callback){\n",
       "  var s = document.createElement('script');\n",
       "  s.src = url;\n",
       "  s.async = true;\n",
       "  s.onreadystatechange = s.onload = callback;\n",
       "  s.onerror = function(){console.warn(\"failed to load library \" + url);};\n",
       "  document.getElementsByTagName(\"head\")[0].appendChild(s);\n",
       "}\n",
       "\n",
       "if(typeof(LDAvis) !== \"undefined\"){\n",
       "   // already loaded: just create the visualization\n",
       "   !function(LDAvis){\n",
       "       new LDAvis(\"#\" + \"ldavis_el559221464891756249537307717\", ldavis_el559221464891756249537307717_data);\n",
       "   }(LDAvis);\n",
       "}else if(typeof define === \"function\" && define.amd){\n",
       "   // require.js is available: use it to load d3/LDAvis\n",
       "   require.config({paths: {d3: \"https://cdnjs.cloudflare.com/ajax/libs/d3/3.5.5/d3.min\"}});\n",
       "   require([\"d3\"], function(d3){\n",
       "      window.d3 = d3;\n",
       "      LDAvis_load_lib(\"https://cdn.rawgit.com/bmabey/pyLDAvis/files/ldavis.v1.0.0.js\", function(){\n",
       "        new LDAvis(\"#\" + \"ldavis_el559221464891756249537307717\", ldavis_el559221464891756249537307717_data);\n",
       "      });\n",
       "    });\n",
       "}else{\n",
       "    // require.js not available: dynamically load d3 & LDAvis\n",
       "    LDAvis_load_lib(\"https://cdnjs.cloudflare.com/ajax/libs/d3/3.5.5/d3.min.js\", function(){\n",
       "         LDAvis_load_lib(\"https://cdn.rawgit.com/bmabey/pyLDAvis/files/ldavis.v1.0.0.js\", function(){\n",
       "                 new LDAvis(\"#\" + \"ldavis_el559221464891756249537307717\", ldavis_el559221464891756249537307717_data);\n",
       "            })\n",
       "         });\n",
       "}\n",
       "</script>"
      ],
      "text/plain": [
       "<IPython.core.display.HTML object>"
      ]
     },
     "execution_count": 36,
     "metadata": {},
     "output_type": "execute_result"
    }
   ],
   "source": [
    "lda3 = gensim.models.ldamodel.LdaModel.load('model3.gensim')\n",
    "lda_display3 = pyLDAvis.gensim.prepare(lda3, corpus, dictionary, sort_topics=False)\n",
    "pyLDAvis.display(lda_display3)"
   ]
  },
  {
   "cell_type": "code",
   "execution_count": null,
   "metadata": {},
   "outputs": [],
   "source": [
    "lda10 = gensim.models.ldamodel.LdaModel.load('model10.gensim')\n",
    "lda_display10 = pyLDAvis.gensim.prepare(lda10, corpus, dictionary, sort_topics=False)\n",
    "pyLDAvis.display(lda_display10)"
   ]
  }
 ],
 "metadata": {
  "kernelspec": {
   "display_name": "Python 3",
   "language": "python",
   "name": "python3"
  },
  "language_info": {
   "codemirror_mode": {
    "name": "ipython",
    "version": 3
   },
   "file_extension": ".py",
   "mimetype": "text/x-python",
   "name": "python",
   "nbconvert_exporter": "python",
   "pygments_lexer": "ipython3",
   "version": "3.7.4"
  }
 },
 "nbformat": 4,
 "nbformat_minor": 2
}
